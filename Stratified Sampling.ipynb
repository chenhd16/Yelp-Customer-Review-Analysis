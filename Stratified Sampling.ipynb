{
 "cells": [
  {
   "cell_type": "code",
   "execution_count": 2,
   "id": "9b651c5d-6685-4595-8349-3392c4f93f1a",
   "metadata": {
    "tags": []
   },
   "outputs": [],
   "source": [
    "import pandas as pd\n",
    "import numpy as np\n",
    "\n",
    "import matplotlib.pyplot as plt\n",
    "import seaborn as sns\n",
    "\n",
    "import json\n",
    "from pathlib import Path\n",
    "from time import time\n",
    "\n",
    "import warnings\n",
    "warnings.filterwarnings('ignore')"
   ]
  },
  {
   "cell_type": "markdown",
   "id": "6f8b399f-2b41-42aa-ae54-a613f06b063e",
   "metadata": {},
   "source": [
    "### Read yelp review and business data"
   ]
  },
  {
   "cell_type": "code",
   "execution_count": 3,
   "id": "58380eea",
   "metadata": {},
   "outputs": [],
   "source": [
    "def load_rows(file_path, nrows=None, only_return_count=False, verbose=True):\n",
    "    \"\"\"\n",
    "    Returns dataframe from json file\n",
    "    \"\"\"\n",
    "    tic = time()\n",
    "    with open(file_path, encoding = 'utf-8') as json_file:\n",
    "        count = 0\n",
    "        objs = []\n",
    "        line = json_file.readline()\n",
    "        while (nrows is None or count<nrows) and line:\n",
    "            count += 1\n",
    "            if not only_return_count:\n",
    "                obj = json.loads(line)\n",
    "                objs.append(obj)\n",
    "            line = json_file.readline()\n",
    "        toc = time()\n",
    "        if verbose:\n",
    "            print(file_path.split('/')[-1], 'loaded. Count =', count, ', Time =', round(toc-tic,2), 'secs.')\n",
    "\n",
    "        if only_return_count:\n",
    "            return count\n",
    "\n",
    "        return pd.DataFrame(objs)"
   ]
  },
  {
   "cell_type": "code",
   "execution_count": 4,
   "id": "6ddc4f84",
   "metadata": {},
   "outputs": [],
   "source": [
    "path_reviews = 'D:\\\\Chicago_MScA\\\\Winter 2022\\\\Data Mining Principles\\\\Project\\\\yelp_academic_dataset_review.json'"
   ]
  },
  {
   "cell_type": "code",
   "execution_count": 5,
   "id": "09ad518d",
   "metadata": {},
   "outputs": [
    {
     "name": "stdout",
     "output_type": "stream",
     "text": [
      "D:\\Chicago_MScA\\Winter 2022\\Data Mining Principles\\Project\\yelp_academic_dataset_review.json loaded. Count = 8635403 , Time = 55.53 secs.\n"
     ]
    }
   ],
   "source": [
    "df_reviews = load_rows(path_reviews)"
   ]
  },
  {
   "cell_type": "code",
   "execution_count": 6,
   "id": "c445f23b",
   "metadata": {},
   "outputs": [
    {
     "data": {
      "text/html": [
       "<div>\n",
       "<style scoped>\n",
       "    .dataframe tbody tr th:only-of-type {\n",
       "        vertical-align: middle;\n",
       "    }\n",
       "\n",
       "    .dataframe tbody tr th {\n",
       "        vertical-align: top;\n",
       "    }\n",
       "\n",
       "    .dataframe thead th {\n",
       "        text-align: right;\n",
       "    }\n",
       "</style>\n",
       "<table border=\"1\" class=\"dataframe\">\n",
       "  <thead>\n",
       "    <tr style=\"text-align: right;\">\n",
       "      <th></th>\n",
       "      <th>review_id</th>\n",
       "      <th>user_id</th>\n",
       "      <th>business_id</th>\n",
       "      <th>stars</th>\n",
       "      <th>useful</th>\n",
       "      <th>funny</th>\n",
       "      <th>cool</th>\n",
       "      <th>text</th>\n",
       "      <th>date</th>\n",
       "    </tr>\n",
       "  </thead>\n",
       "  <tbody>\n",
       "    <tr>\n",
       "      <th>0</th>\n",
       "      <td>lWC-xP3rd6obsecCYsGZRg</td>\n",
       "      <td>ak0TdVmGKo4pwqdJSTLwWw</td>\n",
       "      <td>buF9druCkbuXLX526sGELQ</td>\n",
       "      <td>4.0</td>\n",
       "      <td>3</td>\n",
       "      <td>1</td>\n",
       "      <td>1</td>\n",
       "      <td>Apparently Prides Osteria had a rough summer a...</td>\n",
       "      <td>2014-10-11 03:34:02</td>\n",
       "    </tr>\n",
       "    <tr>\n",
       "      <th>1</th>\n",
       "      <td>8bFej1QE5LXp4O05qjGqXA</td>\n",
       "      <td>YoVfDbnISlW0f7abNQACIg</td>\n",
       "      <td>RA4V8pr014UyUbDvI-LW2A</td>\n",
       "      <td>4.0</td>\n",
       "      <td>1</td>\n",
       "      <td>0</td>\n",
       "      <td>0</td>\n",
       "      <td>This store is pretty good. Not as great as Wal...</td>\n",
       "      <td>2015-07-03 20:38:25</td>\n",
       "    </tr>\n",
       "    <tr>\n",
       "      <th>2</th>\n",
       "      <td>NDhkzczKjLshODbqDoNLSg</td>\n",
       "      <td>eC5evKn1TWDyHCyQAwguUw</td>\n",
       "      <td>_sS2LBIGNT5NQb6PD1Vtjw</td>\n",
       "      <td>5.0</td>\n",
       "      <td>0</td>\n",
       "      <td>0</td>\n",
       "      <td>0</td>\n",
       "      <td>I called WVM on the recommendation of a couple...</td>\n",
       "      <td>2013-05-28 20:38:06</td>\n",
       "    </tr>\n",
       "    <tr>\n",
       "      <th>3</th>\n",
       "      <td>T5fAqjjFooT4V0OeZyuk1w</td>\n",
       "      <td>SFQ1jcnGguO0LYWnbbftAA</td>\n",
       "      <td>0AzLzHfOJgL7ROwhdww2ew</td>\n",
       "      <td>2.0</td>\n",
       "      <td>1</td>\n",
       "      <td>1</td>\n",
       "      <td>1</td>\n",
       "      <td>I've stayed at many Marriott and Renaissance M...</td>\n",
       "      <td>2010-01-08 02:29:15</td>\n",
       "    </tr>\n",
       "    <tr>\n",
       "      <th>4</th>\n",
       "      <td>sjm_uUcQVxab_EeLCqsYLg</td>\n",
       "      <td>0kA0PAJ8QFMeveQWHFqz2A</td>\n",
       "      <td>8zehGz9jnxPqXtOc7KaJxA</td>\n",
       "      <td>4.0</td>\n",
       "      <td>0</td>\n",
       "      <td>0</td>\n",
       "      <td>0</td>\n",
       "      <td>The food is always great here. The service fro...</td>\n",
       "      <td>2011-07-28 18:05:01</td>\n",
       "    </tr>\n",
       "  </tbody>\n",
       "</table>\n",
       "</div>"
      ],
      "text/plain": [
       "                review_id                 user_id             business_id  \\\n",
       "0  lWC-xP3rd6obsecCYsGZRg  ak0TdVmGKo4pwqdJSTLwWw  buF9druCkbuXLX526sGELQ   \n",
       "1  8bFej1QE5LXp4O05qjGqXA  YoVfDbnISlW0f7abNQACIg  RA4V8pr014UyUbDvI-LW2A   \n",
       "2  NDhkzczKjLshODbqDoNLSg  eC5evKn1TWDyHCyQAwguUw  _sS2LBIGNT5NQb6PD1Vtjw   \n",
       "3  T5fAqjjFooT4V0OeZyuk1w  SFQ1jcnGguO0LYWnbbftAA  0AzLzHfOJgL7ROwhdww2ew   \n",
       "4  sjm_uUcQVxab_EeLCqsYLg  0kA0PAJ8QFMeveQWHFqz2A  8zehGz9jnxPqXtOc7KaJxA   \n",
       "\n",
       "   stars  useful  funny  cool  \\\n",
       "0    4.0       3      1     1   \n",
       "1    4.0       1      0     0   \n",
       "2    5.0       0      0     0   \n",
       "3    2.0       1      1     1   \n",
       "4    4.0       0      0     0   \n",
       "\n",
       "                                                text                 date  \n",
       "0  Apparently Prides Osteria had a rough summer a...  2014-10-11 03:34:02  \n",
       "1  This store is pretty good. Not as great as Wal...  2015-07-03 20:38:25  \n",
       "2  I called WVM on the recommendation of a couple...  2013-05-28 20:38:06  \n",
       "3  I've stayed at many Marriott and Renaissance M...  2010-01-08 02:29:15  \n",
       "4  The food is always great here. The service fro...  2011-07-28 18:05:01  "
      ]
     },
     "execution_count": 6,
     "metadata": {},
     "output_type": "execute_result"
    }
   ],
   "source": [
    "df_reviews.head()"
   ]
  },
  {
   "cell_type": "code",
   "execution_count": 14,
   "id": "d686477b-51ac-439d-a1d2-a294ef03e65e",
   "metadata": {},
   "outputs": [],
   "source": [
    "import datetime\n",
    "df_reviews['date'] = df_reviews['date'].apply(lambda x: pd.to_datetime(x, format='%Y-%m-%d %H:%M:%S'))"
   ]
  },
  {
   "cell_type": "code",
   "execution_count": 20,
   "id": "417f0607-c97a-4de8-adc1-2fc66a763d3c",
   "metadata": {},
   "outputs": [],
   "source": [
    "df_reviews['year'] = df_reviews['date'].apply(lambda x: x.year)"
   ]
  },
  {
   "cell_type": "code",
   "execution_count": 22,
   "id": "d3ae0a29-23a8-4bdb-ac0f-f7503698a994",
   "metadata": {},
   "outputs": [
    {
     "data": {
      "text/html": [
       "<div>\n",
       "<style scoped>\n",
       "    .dataframe tbody tr th:only-of-type {\n",
       "        vertical-align: middle;\n",
       "    }\n",
       "\n",
       "    .dataframe tbody tr th {\n",
       "        vertical-align: top;\n",
       "    }\n",
       "\n",
       "    .dataframe thead th {\n",
       "        text-align: right;\n",
       "    }\n",
       "</style>\n",
       "<table border=\"1\" class=\"dataframe\">\n",
       "  <thead>\n",
       "    <tr style=\"text-align: right;\">\n",
       "      <th></th>\n",
       "      <th>review_id</th>\n",
       "      <th>user_id</th>\n",
       "      <th>business_id</th>\n",
       "      <th>stars</th>\n",
       "      <th>useful</th>\n",
       "      <th>funny</th>\n",
       "      <th>cool</th>\n",
       "      <th>text</th>\n",
       "      <th>date</th>\n",
       "      <th>year</th>\n",
       "    </tr>\n",
       "  </thead>\n",
       "  <tbody>\n",
       "    <tr>\n",
       "      <th>0</th>\n",
       "      <td>lWC-xP3rd6obsecCYsGZRg</td>\n",
       "      <td>ak0TdVmGKo4pwqdJSTLwWw</td>\n",
       "      <td>buF9druCkbuXLX526sGELQ</td>\n",
       "      <td>4.0</td>\n",
       "      <td>3</td>\n",
       "      <td>1</td>\n",
       "      <td>1</td>\n",
       "      <td>Apparently Prides Osteria had a rough summer a...</td>\n",
       "      <td>2014-10-11 03:34:02</td>\n",
       "      <td>2014</td>\n",
       "    </tr>\n",
       "    <tr>\n",
       "      <th>1</th>\n",
       "      <td>8bFej1QE5LXp4O05qjGqXA</td>\n",
       "      <td>YoVfDbnISlW0f7abNQACIg</td>\n",
       "      <td>RA4V8pr014UyUbDvI-LW2A</td>\n",
       "      <td>4.0</td>\n",
       "      <td>1</td>\n",
       "      <td>0</td>\n",
       "      <td>0</td>\n",
       "      <td>This store is pretty good. Not as great as Wal...</td>\n",
       "      <td>2015-07-03 20:38:25</td>\n",
       "      <td>2015</td>\n",
       "    </tr>\n",
       "    <tr>\n",
       "      <th>2</th>\n",
       "      <td>NDhkzczKjLshODbqDoNLSg</td>\n",
       "      <td>eC5evKn1TWDyHCyQAwguUw</td>\n",
       "      <td>_sS2LBIGNT5NQb6PD1Vtjw</td>\n",
       "      <td>5.0</td>\n",
       "      <td>0</td>\n",
       "      <td>0</td>\n",
       "      <td>0</td>\n",
       "      <td>I called WVM on the recommendation of a couple...</td>\n",
       "      <td>2013-05-28 20:38:06</td>\n",
       "      <td>2013</td>\n",
       "    </tr>\n",
       "    <tr>\n",
       "      <th>3</th>\n",
       "      <td>T5fAqjjFooT4V0OeZyuk1w</td>\n",
       "      <td>SFQ1jcnGguO0LYWnbbftAA</td>\n",
       "      <td>0AzLzHfOJgL7ROwhdww2ew</td>\n",
       "      <td>2.0</td>\n",
       "      <td>1</td>\n",
       "      <td>1</td>\n",
       "      <td>1</td>\n",
       "      <td>I've stayed at many Marriott and Renaissance M...</td>\n",
       "      <td>2010-01-08 02:29:15</td>\n",
       "      <td>2010</td>\n",
       "    </tr>\n",
       "    <tr>\n",
       "      <th>4</th>\n",
       "      <td>sjm_uUcQVxab_EeLCqsYLg</td>\n",
       "      <td>0kA0PAJ8QFMeveQWHFqz2A</td>\n",
       "      <td>8zehGz9jnxPqXtOc7KaJxA</td>\n",
       "      <td>4.0</td>\n",
       "      <td>0</td>\n",
       "      <td>0</td>\n",
       "      <td>0</td>\n",
       "      <td>The food is always great here. The service fro...</td>\n",
       "      <td>2011-07-28 18:05:01</td>\n",
       "      <td>2011</td>\n",
       "    </tr>\n",
       "  </tbody>\n",
       "</table>\n",
       "</div>"
      ],
      "text/plain": [
       "                review_id                 user_id             business_id  \\\n",
       "0  lWC-xP3rd6obsecCYsGZRg  ak0TdVmGKo4pwqdJSTLwWw  buF9druCkbuXLX526sGELQ   \n",
       "1  8bFej1QE5LXp4O05qjGqXA  YoVfDbnISlW0f7abNQACIg  RA4V8pr014UyUbDvI-LW2A   \n",
       "2  NDhkzczKjLshODbqDoNLSg  eC5evKn1TWDyHCyQAwguUw  _sS2LBIGNT5NQb6PD1Vtjw   \n",
       "3  T5fAqjjFooT4V0OeZyuk1w  SFQ1jcnGguO0LYWnbbftAA  0AzLzHfOJgL7ROwhdww2ew   \n",
       "4  sjm_uUcQVxab_EeLCqsYLg  0kA0PAJ8QFMeveQWHFqz2A  8zehGz9jnxPqXtOc7KaJxA   \n",
       "\n",
       "   stars  useful  funny  cool  \\\n",
       "0    4.0       3      1     1   \n",
       "1    4.0       1      0     0   \n",
       "2    5.0       0      0     0   \n",
       "3    2.0       1      1     1   \n",
       "4    4.0       0      0     0   \n",
       "\n",
       "                                                text                date  year  \n",
       "0  Apparently Prides Osteria had a rough summer a... 2014-10-11 03:34:02  2014  \n",
       "1  This store is pretty good. Not as great as Wal... 2015-07-03 20:38:25  2015  \n",
       "2  I called WVM on the recommendation of a couple... 2013-05-28 20:38:06  2013  \n",
       "3  I've stayed at many Marriott and Renaissance M... 2010-01-08 02:29:15  2010  \n",
       "4  The food is always great here. The service fro... 2011-07-28 18:05:01  2011  "
      ]
     },
     "execution_count": 22,
     "metadata": {},
     "output_type": "execute_result"
    }
   ],
   "source": [
    "df_reviews.head()"
   ]
  },
  {
   "cell_type": "code",
   "execution_count": 23,
   "id": "d3f5ff56-196d-4b33-b71e-53dab143c346",
   "metadata": {},
   "outputs": [
    {
     "data": {
      "text/plain": [
       "2018    1084335\n",
       "2019    1037569\n",
       "2017    1029557\n",
       "2016     960527\n",
       "2015     907529\n",
       "2014     726119\n",
       "2020     601891\n",
       "2013     555740\n",
       "2012     472441\n",
       "2011     431192\n",
       "2010     317583\n",
       "2009     213797\n",
       "2008     150436\n",
       "2007      71916\n",
       "2021      44461\n",
       "2006      23819\n",
       "2005       6439\n",
       "2004         52\n",
       "Name: year, dtype: int64"
      ]
     },
     "execution_count": 23,
     "metadata": {},
     "output_type": "execute_result"
    }
   ],
   "source": [
    "df_reviews['year'].value_counts()"
   ]
  },
  {
   "cell_type": "code",
   "execution_count": 7,
   "id": "53ce2b7e",
   "metadata": {},
   "outputs": [],
   "source": [
    "path_business = 'D:\\\\Chicago_MScA\\\\Winter 2022\\\\Data Mining Principles\\\\Project\\\\yelp_academic_dataset_business.json'"
   ]
  },
  {
   "cell_type": "code",
   "execution_count": 8,
   "id": "aaa566a9",
   "metadata": {},
   "outputs": [
    {
     "name": "stdout",
     "output_type": "stream",
     "text": [
      "D:\\Chicago_MScA\\Winter 2022\\Data Mining Principles\\Project\\yelp_academic_dataset_business.json loaded. Count = 160585 , Time = 2.74 secs.\n"
     ]
    }
   ],
   "source": [
    "df_business = load_rows(path_business)"
   ]
  },
  {
   "cell_type": "code",
   "execution_count": 9,
   "id": "7df86df3-671b-42b6-97e6-3402655e7c66",
   "metadata": {},
   "outputs": [
    {
     "data": {
      "text/plain": [
       "count    160585.000000\n",
       "mean         51.964548\n",
       "std         130.030448\n",
       "min           5.000000\n",
       "25%           8.000000\n",
       "50%          17.000000\n",
       "75%          44.000000\n",
       "max        9185.000000\n",
       "Name: review_count, dtype: float64"
      ]
     },
     "execution_count": 9,
     "metadata": {},
     "output_type": "execute_result"
    }
   ],
   "source": [
    "df_business['review_count'].describe()"
   ]
  },
  {
   "cell_type": "code",
   "execution_count": 10,
   "id": "794d4a05-d88c-482e-9fd3-3a811d88f413",
   "metadata": {},
   "outputs": [
    {
     "data": {
      "text/plain": [
       "(13844, 14)"
      ]
     },
     "execution_count": 10,
     "metadata": {},
     "output_type": "execute_result"
    }
   ],
   "source": [
    "df_business[df_business['review_count'] == 5].shape"
   ]
  },
  {
   "cell_type": "markdown",
   "id": "732bf534-9617-426a-836f-6e8a5af5074c",
   "metadata": {},
   "source": [
    "### Data Filtering"
   ]
  },
  {
   "cell_type": "code",
   "execution_count": 11,
   "id": "a2d16b6e",
   "metadata": {},
   "outputs": [],
   "source": [
    "rest = df_business.categories.str.contains('Restaurant', na=False)\n",
    "df_business = df_business[rest]\n",
    "df_business.drop(df_business[df_business.is_open == 0].index, inplace=True)\n",
    "df_business = df_business.dropna()"
   ]
  },
  {
   "cell_type": "code",
   "execution_count": 20,
   "id": "92138f07-90d8-42f9-808f-24142f6a5479",
   "metadata": {},
   "outputs": [
    {
     "data": {
      "text/html": [
       "<div>\n",
       "<style scoped>\n",
       "    .dataframe tbody tr th:only-of-type {\n",
       "        vertical-align: middle;\n",
       "    }\n",
       "\n",
       "    .dataframe tbody tr th {\n",
       "        vertical-align: top;\n",
       "    }\n",
       "\n",
       "    .dataframe thead th {\n",
       "        text-align: right;\n",
       "    }\n",
       "</style>\n",
       "<table border=\"1\" class=\"dataframe\">\n",
       "  <thead>\n",
       "    <tr style=\"text-align: right;\">\n",
       "      <th></th>\n",
       "      <th>business_id</th>\n",
       "      <th>name</th>\n",
       "      <th>address</th>\n",
       "      <th>city</th>\n",
       "      <th>state</th>\n",
       "      <th>postal_code</th>\n",
       "      <th>latitude</th>\n",
       "      <th>longitude</th>\n",
       "      <th>stars</th>\n",
       "      <th>review_count</th>\n",
       "      <th>is_open</th>\n",
       "      <th>attributes</th>\n",
       "      <th>categories</th>\n",
       "      <th>hours</th>\n",
       "    </tr>\n",
       "  </thead>\n",
       "  <tbody>\n",
       "    <tr>\n",
       "      <th>0</th>\n",
       "      <td>6iYb2HFDywm3zjuRg0shjw</td>\n",
       "      <td>Oskar Blues Taproom</td>\n",
       "      <td>921 Pearl St</td>\n",
       "      <td>Boulder</td>\n",
       "      <td>CO</td>\n",
       "      <td>80302</td>\n",
       "      <td>40.017544</td>\n",
       "      <td>-105.283348</td>\n",
       "      <td>4.0</td>\n",
       "      <td>86</td>\n",
       "      <td>1</td>\n",
       "      <td>{'RestaurantsTableService': 'True', 'WiFi': 'u...</td>\n",
       "      <td>Gastropubs, Food, Beer Gardens, Restaurants, B...</td>\n",
       "      <td>{'Monday': '11:0-23:0', 'Tuesday': '11:0-23:0'...</td>\n",
       "    </tr>\n",
       "    <tr>\n",
       "      <th>1</th>\n",
       "      <td>tCbdrRPZA0oiIYSmHG3J0w</td>\n",
       "      <td>Flying Elephants at PDX</td>\n",
       "      <td>7000 NE Airport Way</td>\n",
       "      <td>Portland</td>\n",
       "      <td>OR</td>\n",
       "      <td>97218</td>\n",
       "      <td>45.588906</td>\n",
       "      <td>-122.593331</td>\n",
       "      <td>4.0</td>\n",
       "      <td>126</td>\n",
       "      <td>1</td>\n",
       "      <td>{'RestaurantsTakeOut': 'True', 'RestaurantsAtt...</td>\n",
       "      <td>Salad, Soup, Sandwiches, Delis, Restaurants, C...</td>\n",
       "      <td>{'Monday': '5:0-18:0', 'Tuesday': '5:0-17:0', ...</td>\n",
       "    </tr>\n",
       "    <tr>\n",
       "      <th>5</th>\n",
       "      <td>D4JtQNTI4X3KcbzacDJsMw</td>\n",
       "      <td>Bob Likes Thai Food</td>\n",
       "      <td>3755 Main St</td>\n",
       "      <td>Vancouver</td>\n",
       "      <td>BC</td>\n",
       "      <td>V5V</td>\n",
       "      <td>49.251342</td>\n",
       "      <td>-123.101333</td>\n",
       "      <td>3.5</td>\n",
       "      <td>169</td>\n",
       "      <td>1</td>\n",
       "      <td>{'GoodForKids': 'True', 'Alcohol': 'u'none'', ...</td>\n",
       "      <td>Restaurants, Thai</td>\n",
       "      <td>{'Monday': '17:0-21:0', 'Tuesday': '17:0-21:0'...</td>\n",
       "    </tr>\n",
       "    <tr>\n",
       "      <th>12</th>\n",
       "      <td>HPA_qyMEddpAEtFof02ixg</td>\n",
       "      <td>Mr G's Pizza &amp; Subs</td>\n",
       "      <td>474 Lowell St</td>\n",
       "      <td>Peabody</td>\n",
       "      <td>MA</td>\n",
       "      <td>01960</td>\n",
       "      <td>42.541155</td>\n",
       "      <td>-70.973438</td>\n",
       "      <td>4.0</td>\n",
       "      <td>39</td>\n",
       "      <td>1</td>\n",
       "      <td>{'RestaurantsGoodForGroups': 'True', 'HasTV': ...</td>\n",
       "      <td>Food, Pizza, Restaurants</td>\n",
       "      <td>{'Monday': '11:0-21:0', 'Tuesday': '11:0-21:0'...</td>\n",
       "    </tr>\n",
       "    <tr>\n",
       "      <th>13</th>\n",
       "      <td>ufCxltuh56FF4-ZFZ6cVhg</td>\n",
       "      <td>Sister Honey's</td>\n",
       "      <td>247 E Michigan St</td>\n",
       "      <td>Orlando</td>\n",
       "      <td>FL</td>\n",
       "      <td>32806</td>\n",
       "      <td>28.513265</td>\n",
       "      <td>-81.374707</td>\n",
       "      <td>4.5</td>\n",
       "      <td>135</td>\n",
       "      <td>1</td>\n",
       "      <td>{'BusinessParking': '{'garage': False, 'street...</td>\n",
       "      <td>Restaurants, American (New), Bakeries, Dessert...</td>\n",
       "      <td>{'Tuesday': '11:0-18:0', 'Wednesday': '11:0-18...</td>\n",
       "    </tr>\n",
       "  </tbody>\n",
       "</table>\n",
       "</div>"
      ],
      "text/plain": [
       "               business_id                     name              address  \\\n",
       "0   6iYb2HFDywm3zjuRg0shjw      Oskar Blues Taproom         921 Pearl St   \n",
       "1   tCbdrRPZA0oiIYSmHG3J0w  Flying Elephants at PDX  7000 NE Airport Way   \n",
       "5   D4JtQNTI4X3KcbzacDJsMw      Bob Likes Thai Food         3755 Main St   \n",
       "12  HPA_qyMEddpAEtFof02ixg      Mr G's Pizza & Subs        474 Lowell St   \n",
       "13  ufCxltuh56FF4-ZFZ6cVhg           Sister Honey's    247 E Michigan St   \n",
       "\n",
       "         city state postal_code   latitude   longitude  stars  review_count  \\\n",
       "0     Boulder    CO       80302  40.017544 -105.283348    4.0            86   \n",
       "1    Portland    OR       97218  45.588906 -122.593331    4.0           126   \n",
       "5   Vancouver    BC         V5V  49.251342 -123.101333    3.5           169   \n",
       "12    Peabody    MA       01960  42.541155  -70.973438    4.0            39   \n",
       "13    Orlando    FL       32806  28.513265  -81.374707    4.5           135   \n",
       "\n",
       "    is_open                                         attributes  \\\n",
       "0         1  {'RestaurantsTableService': 'True', 'WiFi': 'u...   \n",
       "1         1  {'RestaurantsTakeOut': 'True', 'RestaurantsAtt...   \n",
       "5         1  {'GoodForKids': 'True', 'Alcohol': 'u'none'', ...   \n",
       "12        1  {'RestaurantsGoodForGroups': 'True', 'HasTV': ...   \n",
       "13        1  {'BusinessParking': '{'garage': False, 'street...   \n",
       "\n",
       "                                           categories  \\\n",
       "0   Gastropubs, Food, Beer Gardens, Restaurants, B...   \n",
       "1   Salad, Soup, Sandwiches, Delis, Restaurants, C...   \n",
       "5                                   Restaurants, Thai   \n",
       "12                           Food, Pizza, Restaurants   \n",
       "13  Restaurants, American (New), Bakeries, Dessert...   \n",
       "\n",
       "                                                hours  \n",
       "0   {'Monday': '11:0-23:0', 'Tuesday': '11:0-23:0'...  \n",
       "1   {'Monday': '5:0-18:0', 'Tuesday': '5:0-17:0', ...  \n",
       "5   {'Monday': '17:0-21:0', 'Tuesday': '17:0-21:0'...  \n",
       "12  {'Monday': '11:0-21:0', 'Tuesday': '11:0-21:0'...  \n",
       "13  {'Tuesday': '11:0-18:0', 'Wednesday': '11:0-18...  "
      ]
     },
     "execution_count": 20,
     "metadata": {},
     "output_type": "execute_result"
    }
   ],
   "source": [
    "df_business.head()"
   ]
  },
  {
   "cell_type": "code",
   "execution_count": 13,
   "id": "61a65842-0d26-411c-86a9-793d7d48ee8a",
   "metadata": {},
   "outputs": [
    {
     "name": "stdout",
     "output_type": "stream",
     "text": [
      "Business Data Shape: (28684, 14)\n"
     ]
    }
   ],
   "source": [
    "print('Business Data Shape:', df_business.shape)"
   ]
  },
  {
   "cell_type": "code",
   "execution_count": 14,
   "id": "6e8731a7-66c5-4039-831c-7efbbe28748a",
   "metadata": {},
   "outputs": [
    {
     "name": "stdout",
     "output_type": "stream",
     "text": [
      "(3, 14)\n"
     ]
    },
    {
     "data": {
      "text/plain": [
       "count    28684.000000\n",
       "mean       141.777995\n",
       "std        247.854217\n",
       "min          5.000000\n",
       "25%         25.000000\n",
       "50%         64.000000\n",
       "75%        162.000000\n",
       "max       9185.000000\n",
       "Name: review_count, dtype: float64"
      ]
     },
     "execution_count": 14,
     "metadata": {},
     "output_type": "execute_result"
    }
   ],
   "source": [
    "# take a look at the distribution of review counts\n",
    "print(df_business[df_business['review_count'] > 7000].shape)\n",
    "df_business['review_count'].describe()"
   ]
  },
  {
   "cell_type": "code",
   "execution_count": 21,
   "id": "8552a35a-e850-423a-b898-f8bccbba247e",
   "metadata": {},
   "outputs": [],
   "source": [
    "df_business_part = df_business[['city','business_id','review_count']]"
   ]
  },
  {
   "cell_type": "code",
   "execution_count": 22,
   "id": "e196054f-2837-4c01-91b9-976778423d1c",
   "metadata": {},
   "outputs": [
    {
     "data": {
      "text/plain": [
       "5.0    3814532\n",
       "4.0    1920037\n",
       "1.0    1262800\n",
       "3.0     926656\n",
       "2.0     711378\n",
       "Name: stars, dtype: int64"
      ]
     },
     "execution_count": 22,
     "metadata": {},
     "output_type": "execute_result"
    }
   ],
   "source": [
    "# take a look at the distribution of review stars\n",
    "merged_data = pd.merge(df_reviews, df_business_part, on='business_id', how='outer')\n",
    "merged_data['stars'].value_counts()"
   ]
  },
  {
   "cell_type": "code",
   "execution_count": 29,
   "id": "a50c7068-7ec2-4637-90e4-82027ae6641e",
   "metadata": {},
   "outputs": [
    {
     "name": "stdout",
     "output_type": "stream",
     "text": [
      "5.0    357487\n",
      "4.0    215154\n",
      "3.0     98748\n",
      "1.0     71370\n",
      "2.0     64860\n",
      "Name: stars, dtype: int64\n",
      "5.0    630556\n",
      "4.0    359593\n",
      "3.0    170132\n",
      "1.0    153135\n",
      "2.0    118899\n",
      "Name: stars, dtype: int64\n"
     ]
    }
   ],
   "source": [
    "merged_c1 = merged_data[(merged_data['city']=='Portland')|(merged_data['city']=='Vancouver')]\n",
    "merged_c2 = merged_data[(merged_data['city']=='Atlanta') | (merged_data['city']=='Orlando')| (merged_data['city']=='Austin')]\n",
    "print(merged_c1['stars'].value_counts())\n",
    "print(merged_c2['stars'].value_counts())"
   ]
  },
  {
   "cell_type": "markdown",
   "id": "df0bdb92-4697-4f43-a2a2-6bd2ad604251",
   "metadata": {},
   "source": [
    "### Define stratified sampling function"
   ]
  },
  {
   "cell_type": "code",
   "execution_count": 9,
   "id": "b0b6fba9",
   "metadata": {},
   "outputs": [],
   "source": [
    "def stratify_data(df_data, stratify_column_name, stratify_values, stratify_proportions, threshold, random_state=0):\n",
    "    \"\"\"Stratifies data according to the values and proportions passed in\n",
    "    Args:\n",
    "        df_data (DataFrame): source data\n",
    "        stratify_column_name (str): The name of the single column in the dataframe that holds the data values that will be used to stratify the data\n",
    "        stratify_values (list of str): A list of all of the potential values for stratifying e.g. \"Male, Graduate\", \"Male, Undergraduate\", \"Female, Graduate\", \"Female, Undergraduate\"\n",
    "        stratify_proportions (list of float): A list of numbers representing the desired propotions for stratifying e.g. 0.4, 0.4, 0.2, 0.2, The list values must add up to 1 and must match the number of values in stratify_values\n",
    "        random_state (int, optional): sets the random_state. Defaults to None.\n",
    "    Returns:\n",
    "        DataFrame: a new dataframe based on df_data that has the new proportions represnting the desired strategy for stratifying\n",
    "    \"\"\"\n",
    "    df_stratified = pd.DataFrame(columns = df_data.columns) # Create an empty DataFrame with column names matching df_data\n",
    "\n",
    "    pos = -1\n",
    "    \n",
    "    for i in range(len(stratify_values)): # Iterate over the stratify values (e.g. \"star\"=5.0, etc.)\n",
    "        pos += 1\n",
    "        if 0 < threshold * stratify_proportions[i] < 1:\n",
    "            ratio_len = 1 # Extract at least 1 review for those items existing\n",
    "        else:\n",
    "            ratio_len = int(threshold * stratify_proportions[i]) # Calculate the number of rows to match the desired proportion\n",
    "        if ratio_len < 0:\n",
    "            break\n",
    "        df_filtered = df_data[df_data[stratify_column_name] ==stratify_values[i]] # Filter the source data based on the currently selected stratify value\n",
    "        # print(stratify_proportions, pos, len(df_filtered), ratio_len)\n",
    "        df_temp = df_filtered.sample(replace=False, n=ratio_len, random_state=random_state) # Sample the filtered data using the calculated ratio\n",
    "        df_stratified = pd.concat([df_stratified, df_temp]) # Add the sampled / stratified datasets together to produce the final result\n",
    "        \n",
    "    return df_stratified # Return the stratified, re-sampled data"
   ]
  },
  {
   "cell_type": "markdown",
   "id": "8d49762e-03f2-46f0-94e9-c29a27c8e289",
   "metadata": {},
   "source": [
    "### Define sampling function"
   ]
  },
  {
   "cell_type": "code",
   "execution_count": null,
   "id": "d928a175",
   "metadata": {},
   "outputs": [],
   "source": [
    "def sample(city):\n",
    "    df = df_business[df_business['city'] == city]\n",
    "    len_df_business = len(df)\n",
    "    business_list = df['business_id'].drop_duplicates()\n",
    "    len_business_list = len(business_list)\n",
    "    \n",
    "    reviews = list()\n",
    "    total_original_reviews = 0\n",
    "\n",
    "    # set threshold as 10\n",
    "    for business in business_list:\n",
    "        N = len(df_reviews[df_reviews['business_id'] == business])\n",
    "        total_original_reviews += N\n",
    "        # print(N)\n",
    "        if N == 0:\n",
    "            continue\n",
    "        # If number of reviews <= 10, retain all reviews, else implement stratified sampling\n",
    "        elif N <= 10:\n",
    "            for line in df_reviews[df_reviews['business_id'] == business].index:\n",
    "                reviews.append(df_reviews[df_reviews['business_id'] == business].loc[line,['business_id', 'stars', 'text']])\n",
    "        else:\n",
    "            star_count = pd.DataFrame(df_reviews[df_reviews['business_id'] == business]['stars'].value_counts()) # Count number of reviews for each star\n",
    "            bus_stars = list(star_count.index)\n",
    "            stratify_proportions = list(star_count['stars'] / N) # Calculate review proportons for each star\n",
    "            #print(star_count)\n",
    "            #print(df_reviews[df_reviews['business_id'] == business])\n",
    "            stratified_reviews = stratify_data(df_reviews[df_reviews['business_id'] == business], 'stars', bus_stars, stratify_proportions, threshold=10)\n",
    "            #print(stratified_reviews)\n",
    "            for line in stratified_reviews.index:\n",
    "                reviews.append(stratified_reviews.loc[line,['business_id', 'stars', 'text']])\n",
    "    \n",
    "    \n",
    "    reviews = pd.DataFrame(reviews)\n",
    "    reviews['city'] = city\n",
    "    len_reviews_sample = len(reviews)\n",
    "    reviews.to_csv('D:\\\\Chicago_MScA\\\\Winter 2022\\\\Data Mining Principles\\\\Project\\\\yelp_review_samples_'+city+'.csv')\n",
    "    \n",
    "    print('city:', city)\n",
    "    print('len_df_business:', len_df_business)\n",
    "    print('len_business_list:', len_business_list)\n",
    "    print('total_original_reviews:', total_original_reviews)\n",
    "    print('len_reviews_sample:', len_reviews_sample)"
   ]
  },
  {
   "cell_type": "code",
   "execution_count": 15,
   "id": "3868fbac",
   "metadata": {},
   "outputs": [
    {
     "name": "stdout",
     "output_type": "stream",
     "text": [
      "city: Portland\n",
      "len_df_business: 2848\n",
      "len_business_list: 2848\n",
      "total_original_reviews: 530917\n",
      "len_reviews_sample: 26399\n",
      "city: Vancouver\n",
      "len_df_business: 2675\n",
      "len_business_list: 2675\n",
      "total_original_reviews: 276702\n",
      "len_reviews_sample: 23587\n"
     ]
    }
   ],
   "source": [
    "city_list = ['Portland','Vancouver']\n",
    "for city in city_list:\n",
    "    sample(city)"
   ]
  }
 ],
 "metadata": {
  "kernelspec": {
   "display_name": "Python 3 (ipykernel)",
   "language": "python",
   "name": "python3"
  },
  "language_info": {
   "codemirror_mode": {
    "name": "ipython",
    "version": 3
   },
   "file_extension": ".py",
   "mimetype": "text/x-python",
   "name": "python",
   "nbconvert_exporter": "python",
   "pygments_lexer": "ipython3",
   "version": "3.8.8"
  }
 },
 "nbformat": 4,
 "nbformat_minor": 5
}
