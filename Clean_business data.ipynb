{
 "cells": [
  {
   "cell_type": "code",
   "execution_count": 1,
   "metadata": {
    "colab": {
     "base_uri": "https://localhost:8080/",
     "height": 387
    },
    "executionInfo": {
     "elapsed": 1274,
     "status": "error",
     "timestamp": 1645202856893,
     "user": {
      "displayName": "Jingjing Li",
      "photoUrl": "https://lh3.googleusercontent.com/a/default-user=s64",
      "userId": "07373479913151516467"
     },
     "user_tz": 360
    },
    "id": "Cd1FdK-Kqxss",
    "outputId": "f9f16761-56d2-465c-c611-b7ae987b773f"
   },
   "outputs": [],
   "source": [
    "# package imports\n",
    "import os\n",
    "os.environ['PROJ_LIB'] = r'C:\\ProgramData\\Anaconda3\\pkgs\\proj-7.1.1-h7d85306_3\\Library\\share'\n",
    "\n",
    "#basics\n",
    "import numpy as np\n",
    "import pandas as pd\n",
    "pd.set_option('display.max_columns', None)\n",
    "pd.set_option('display.max_colwidth', None)\n",
    "import json\n",
    "import re\n",
    "from collections import defaultdict\n",
    "from datetime import datetime\n",
    "\n",
    "#misc\n",
    "import gc\n",
    "import time\n",
    "import warnings\n",
    "\n",
    "\n",
    "#viz\n",
    "import matplotlib.pyplot as plt\n",
    "import seaborn as sns \n",
    "import matplotlib.gridspec as gridspec \n",
    "import matplotlib.gridspec as gridspec \n",
    "\n"
   ]
  },
  {
   "cell_type": "markdown",
   "metadata": {
    "id": "TgB9TgDF3ZeY"
   },
   "source": [
    "# Business Data"
   ]
  },
  {
   "cell_type": "code",
   "execution_count": 2,
   "metadata": {
    "executionInfo": {
     "elapsed": 10598,
     "status": "ok",
     "timestamp": 1645198750176,
     "user": {
      "displayName": "Jingjing Li",
      "photoUrl": "https://lh3.googleusercontent.com/a/default-user=s64",
      "userId": "07373479913151516467"
     },
     "user_tz": 360
    },
    "id": "Jg7xKZcTvloz"
   },
   "outputs": [],
   "source": [
    "data = []\n",
    "with open(\"./dataset/yelp_academic_dataset_business.json\",encoding='utf-8') as f:\n",
    "    for line in f:\n",
    "        data.append(json.loads(line))\n",
    "business = pd.DataFrame(data)"
   ]
  },
  {
   "cell_type": "code",
   "execution_count": 3,
   "metadata": {},
   "outputs": [
    {
     "data": {
      "text/plain": [
       "Index(['business_id', 'name', 'address', 'city', 'state', 'postal_code',\n",
       "       'latitude', 'longitude', 'stars', 'review_count', 'is_open',\n",
       "       'attributes', 'categories', 'hours'],\n",
       "      dtype='object')"
      ]
     },
     "execution_count": 3,
     "metadata": {},
     "output_type": "execute_result"
    }
   ],
   "source": [
    "business.columns"
   ]
  },
  {
   "cell_type": "code",
   "execution_count": 122,
   "metadata": {},
   "outputs": [
    {
     "data": {
      "text/html": [
       "<div>\n",
       "<style scoped>\n",
       "    .dataframe tbody tr th:only-of-type {\n",
       "        vertical-align: middle;\n",
       "    }\n",
       "\n",
       "    .dataframe tbody tr th {\n",
       "        vertical-align: top;\n",
       "    }\n",
       "\n",
       "    .dataframe thead th {\n",
       "        text-align: right;\n",
       "    }\n",
       "</style>\n",
       "<table border=\"1\" class=\"dataframe\">\n",
       "  <thead>\n",
       "    <tr style=\"text-align: right;\">\n",
       "      <th></th>\n",
       "      <th>business_id</th>\n",
       "      <th>name</th>\n",
       "      <th>city</th>\n",
       "      <th>state</th>\n",
       "      <th>latitude</th>\n",
       "      <th>longitude</th>\n",
       "      <th>stars</th>\n",
       "      <th>review_count</th>\n",
       "      <th>is_open</th>\n",
       "      <th>attributes</th>\n",
       "      <th>categories</th>\n",
       "      <th>hours</th>\n",
       "    </tr>\n",
       "  </thead>\n",
       "  <tbody>\n",
       "    <tr>\n",
       "      <th>0</th>\n",
       "      <td>6iYb2HFDywm3zjuRg0shjw</td>\n",
       "      <td>Oskar Blues Taproom</td>\n",
       "      <td>Boulder</td>\n",
       "      <td>CO</td>\n",
       "      <td>40.017544</td>\n",
       "      <td>-105.283348</td>\n",
       "      <td>4.0</td>\n",
       "      <td>86</td>\n",
       "      <td>1</td>\n",
       "      <td>{'RestaurantsTableService': 'True', 'WiFi': 'u'free'', 'BikeParking': 'True', 'BusinessParking': '{'garage': False, 'street': True, 'validated': False, 'lot': False, 'valet': False}', 'BusinessAcceptsCreditCards': 'True', 'RestaurantsReservations': 'False', 'WheelchairAccessible': 'True', 'Caters': 'True', 'OutdoorSeating': 'True', 'RestaurantsGoodForGroups': 'True', 'HappyHour': 'True', 'BusinessAcceptsBitcoin': 'False', 'RestaurantsPriceRange2': '2', 'Ambience': '{'touristy': False, 'hipster': False, 'romantic': False, 'divey': False, 'intimate': False, 'trendy': False, 'upscale': False, 'classy': False, 'casual': True}', 'HasTV': 'True', 'Alcohol': ''beer_and_wine'', 'GoodForMeal': '{'dessert': False, 'latenight': False, 'lunch': False, 'dinner': False, 'brunch': False, 'breakfast': False}', 'DogsAllowed': 'False', 'RestaurantsTakeOut': 'True', 'NoiseLevel': 'u'average'', 'RestaurantsAttire': ''casual'', 'RestaurantsDelivery': 'None'}</td>\n",
       "      <td>Gastropubs, Food, Beer Gardens, Restaurants, Bars, American (Traditional), Beer Bar, Nightlife, Breweries</td>\n",
       "      <td>{'Monday': '11:0-23:0', 'Tuesday': '11:0-23:0', 'Wednesday': '11:0-23:0', 'Thursday': '11:0-23:0', 'Friday': '11:0-23:0', 'Saturday': '11:0-23:0', 'Sunday': '11:0-23:0'}</td>\n",
       "    </tr>\n",
       "  </tbody>\n",
       "</table>\n",
       "</div>"
      ],
      "text/plain": [
       "              business_id                 name     city state   latitude  \\\n",
       "0  6iYb2HFDywm3zjuRg0shjw  Oskar Blues Taproom  Boulder    CO  40.017544   \n",
       "\n",
       "    longitude  stars  review_count  is_open  \\\n",
       "0 -105.283348    4.0            86        1   \n",
       "\n",
       "                                                                                                                                                                                                                                                                                                                                                                                                                                                                                                                                                                                                                                                                                                                                                                                                                                                                                                                                                                                attributes  \\\n",
       "0  {'RestaurantsTableService': 'True', 'WiFi': 'u'free'', 'BikeParking': 'True', 'BusinessParking': '{'garage': False, 'street': True, 'validated': False, 'lot': False, 'valet': False}', 'BusinessAcceptsCreditCards': 'True', 'RestaurantsReservations': 'False', 'WheelchairAccessible': 'True', 'Caters': 'True', 'OutdoorSeating': 'True', 'RestaurantsGoodForGroups': 'True', 'HappyHour': 'True', 'BusinessAcceptsBitcoin': 'False', 'RestaurantsPriceRange2': '2', 'Ambience': '{'touristy': False, 'hipster': False, 'romantic': False, 'divey': False, 'intimate': False, 'trendy': False, 'upscale': False, 'classy': False, 'casual': True}', 'HasTV': 'True', 'Alcohol': ''beer_and_wine'', 'GoodForMeal': '{'dessert': False, 'latenight': False, 'lunch': False, 'dinner': False, 'brunch': False, 'breakfast': False}', 'DogsAllowed': 'False', 'RestaurantsTakeOut': 'True', 'NoiseLevel': 'u'average'', 'RestaurantsAttire': ''casual'', 'RestaurantsDelivery': 'None'}   \n",
       "\n",
       "                                                                                                  categories  \\\n",
       "0  Gastropubs, Food, Beer Gardens, Restaurants, Bars, American (Traditional), Beer Bar, Nightlife, Breweries   \n",
       "\n",
       "                                                                                                                                                                       hours  \n",
       "0  {'Monday': '11:0-23:0', 'Tuesday': '11:0-23:0', 'Wednesday': '11:0-23:0', 'Thursday': '11:0-23:0', 'Friday': '11:0-23:0', 'Saturday': '11:0-23:0', 'Sunday': '11:0-23:0'}  "
      ]
     },
     "execution_count": 122,
     "metadata": {},
     "output_type": "execute_result"
    }
   ],
   "source": [
    "business.head(1)"
   ]
  },
  {
   "cell_type": "code",
   "execution_count": 8,
   "metadata": {},
   "outputs": [
    {
     "data": {
      "text/plain": [
       "(160585, 14)"
      ]
     },
     "execution_count": 8,
     "metadata": {},
     "output_type": "execute_result"
    }
   ],
   "source": [
    "business.shape"
   ]
  },
  {
   "cell_type": "code",
   "execution_count": 9,
   "metadata": {},
   "outputs": [
    {
     "name": "stdout",
     "output_type": "stream",
     "text": [
      "<class 'pandas.core.frame.DataFrame'>\n",
      "RangeIndex: 160585 entries, 0 to 160584\n",
      "Data columns (total 14 columns):\n",
      " #   Column        Non-Null Count   Dtype  \n",
      "---  ------        --------------   -----  \n",
      " 0   business_id   160585 non-null  object \n",
      " 1   name          160585 non-null  object \n",
      " 2   address       160585 non-null  object \n",
      " 3   city          160585 non-null  object \n",
      " 4   state         160585 non-null  object \n",
      " 5   postal_code   160585 non-null  object \n",
      " 6   latitude      160585 non-null  float64\n",
      " 7   longitude     160585 non-null  float64\n",
      " 8   stars         160585 non-null  float64\n",
      " 9   review_count  160585 non-null  int64  \n",
      " 10  is_open       160585 non-null  int64  \n",
      " 11  attributes    145593 non-null  object \n",
      " 12  categories    160470 non-null  object \n",
      " 13  hours         133244 non-null  object \n",
      "dtypes: float64(3), int64(2), object(9)\n",
      "memory usage: 17.2+ MB\n"
     ]
    }
   ],
   "source": [
    "business.info()"
   ]
  },
  {
   "cell_type": "code",
   "execution_count": null,
   "metadata": {},
   "outputs": [],
   "source": []
  },
  {
   "cell_type": "markdown",
   "metadata": {},
   "source": [
    "# Data Cleaning\n",
    "\n",
    "0. remove rows with missing values\n",
    "1. filter out only restaurants\n",
    "2. filter `open=1` \n",
    "3. clean categories\n",
    "4. clean attribute\n",
    "5. clean hours"
   ]
  },
  {
   "cell_type": "markdown",
   "metadata": {},
   "source": [
    "`Series.str.contains(pat, case=True, flags=0, na=None, regex=True)`:\n",
    "- Fill value for missing values. The default depends on **dtype of the array**. For **object-dtype**, `numpy.nan` is used"
   ]
  },
  {
   "cell_type": "markdown",
   "metadata": {},
   "source": [
    "## filter ONLY restaurant+open=1"
   ]
  },
  {
   "cell_type": "code",
   "execution_count": 4,
   "metadata": {},
   "outputs": [],
   "source": [
    "mask = business.categories.str.contains('Restaurant') & (business.is_open == 1)\n",
    "rests = business[mask]\n",
    "rests = rests.dropna()"
   ]
  },
  {
   "cell_type": "code",
   "execution_count": 4,
   "metadata": {},
   "outputs": [
    {
     "data": {
      "text/plain": [
       "(28684, 14)"
      ]
     },
     "execution_count": 4,
     "metadata": {},
     "output_type": "execute_result"
    }
   ],
   "source": [
    "rests.shape"
   ]
  },
  {
   "cell_type": "code",
   "execution_count": 5,
   "metadata": {},
   "outputs": [
    {
     "name": "stdout",
     "output_type": "stream",
     "text": [
      "All business number:160585\n",
      "Open restaurants business number:28684\n"
     ]
    }
   ],
   "source": [
    "print(f\"All business number:{business.shape[0]}\")\n",
    "print(f\"Open restaurants business number:{rests.shape[0]}\")"
   ]
  },
  {
   "cell_type": "markdown",
   "metadata": {},
   "source": [
    "## Filter out restaurants in TOP 5 cities"
   ]
  },
  {
   "cell_type": "code",
   "execution_count": 7,
   "metadata": {},
   "outputs": [
    {
     "data": {
      "text/plain": [
       "Portland     2848\n",
       "Vancouver    2675\n",
       "Austin       2608\n",
       "Orlando      2264\n",
       "Atlanta      2263\n",
       "Columbus     1566\n",
       "Boston       1464\n",
       "Richmond      494\n",
       "Kissimmee     445\n",
       "Cambridge     404\n",
       "Name: city, dtype: int64"
      ]
     },
     "execution_count": 7,
     "metadata": {},
     "output_type": "execute_result"
    }
   ],
   "source": [
    "rests.city.value_counts(ascending=False)[:10]"
   ]
  },
  {
   "cell_type": "code",
   "execution_count": 5,
   "metadata": {},
   "outputs": [],
   "source": [
    "# top5_city\n",
    "top5_city = rests.city.value_counts(ascending=False)[:5].index\n",
    "rests5 = rests[rests.city.isin(top5_city)]\n",
    "rests5 = rests5.reset_index(drop=True)"
   ]
  },
  {
   "cell_type": "code",
   "execution_count": 6,
   "metadata": {},
   "outputs": [
    {
     "data": {
      "text/plain": [
       "(12658, 14)"
      ]
     },
     "execution_count": 6,
     "metadata": {},
     "output_type": "execute_result"
    }
   ],
   "source": [
    "rests5.shape #28684-->12658 restaurants"
   ]
  },
  {
   "cell_type": "code",
   "execution_count": 6,
   "metadata": {},
   "outputs": [],
   "source": [
    "# store metadata about restaurants first\n",
    "business_info = rests5[[\"business_id\",\"name\",\"city\",\"state\",\"categories\"]]\n",
    "business_info.to_csv(\"./dataset/business_info.csv\",index=False)"
   ]
  },
  {
   "cell_type": "markdown",
   "metadata": {},
   "source": [
    "## Clean categories"
   ]
  },
  {
   "cell_type": "code",
   "execution_count": 7,
   "metadata": {},
   "outputs": [],
   "source": [
    "# string-->list + remove space + remove Restaurants\n",
    "rests5[\"categories\"] = \\\n",
    "rests5[\"categories\"].apply(lambda s:[ss.strip() for ss in s.split(\",\") if ss.strip() != \"Restaurants\"])"
   ]
  },
  {
   "cell_type": "code",
   "execution_count": 9,
   "metadata": {},
   "outputs": [
    {
     "data": {
      "text/plain": [
       "0                                              [Salad, Soup, Sandwiches, Delis, Cafes, Vegetarian]\n",
       "1                                                                                           [Thai]\n",
       "2                                             [American (New), Bakeries, Desserts, Food, Cupcakes]\n",
       "3    [American (New), Food Court, Flowers & Gifts, Hotels & Travel, Gift Shops, Resorts, Shopping]\n",
       "4                                                                 [Nightlife, Sandwiches, Seafood]\n",
       "Name: categories, dtype: object"
      ]
     },
     "execution_count": 9,
     "metadata": {},
     "output_type": "execute_result"
    }
   ],
   "source": [
    "rests5[\"categories\"][:5]"
   ]
  },
  {
   "cell_type": "code",
   "execution_count": 8,
   "metadata": {
    "scrolled": true
   },
   "outputs": [
    {
     "data": {
      "text/plain": [
       "Index(['Nightlife', 'Bars', 'Sandwiches', 'American (Traditional)',\n",
       "       'Breakfast & Brunch', 'Fast Food', 'American (New)', 'Mexican',\n",
       "       'Coffee & Tea', 'Burgers', 'Pizza', 'Cafes', 'Food Trucks',\n",
       "       'Event Planning & Services', 'Seafood'],\n",
       "      dtype='object')"
      ]
     },
     "execution_count": 8,
     "metadata": {},
     "output_type": "execute_result"
    }
   ],
   "source": [
    "all_categ = [ss for l in list(rests5[\"categories\"].values) for ss in l]\n",
    "categ15 = pd.Series(all_categ).value_counts(ascending=False)[1:16].index #since first is food--meaningless\n",
    "categ15"
   ]
  },
  {
   "cell_type": "code",
   "execution_count": 9,
   "metadata": {},
   "outputs": [
    {
     "data": {
      "text/html": [
       "<div>\n",
       "<style scoped>\n",
       "    .dataframe tbody tr th:only-of-type {\n",
       "        vertical-align: middle;\n",
       "    }\n",
       "\n",
       "    .dataframe tbody tr th {\n",
       "        vertical-align: top;\n",
       "    }\n",
       "\n",
       "    .dataframe thead th {\n",
       "        text-align: right;\n",
       "    }\n",
       "</style>\n",
       "<table border=\"1\" class=\"dataframe\">\n",
       "  <thead>\n",
       "    <tr style=\"text-align: right;\">\n",
       "      <th>categories</th>\n",
       "      <th>American (New)</th>\n",
       "      <th>American (Traditional)</th>\n",
       "      <th>Bars</th>\n",
       "      <th>Breakfast &amp; Brunch</th>\n",
       "      <th>Burgers</th>\n",
       "      <th>Cafes</th>\n",
       "      <th>Coffee &amp; Tea</th>\n",
       "      <th>Event Planning &amp; Services</th>\n",
       "      <th>Fast Food</th>\n",
       "      <th>Food Trucks</th>\n",
       "      <th>Mexican</th>\n",
       "      <th>Nightlife</th>\n",
       "      <th>Pizza</th>\n",
       "      <th>Sandwiches</th>\n",
       "      <th>Seafood</th>\n",
       "    </tr>\n",
       "    <tr>\n",
       "      <th>business_id</th>\n",
       "      <th></th>\n",
       "      <th></th>\n",
       "      <th></th>\n",
       "      <th></th>\n",
       "      <th></th>\n",
       "      <th></th>\n",
       "      <th></th>\n",
       "      <th></th>\n",
       "      <th></th>\n",
       "      <th></th>\n",
       "      <th></th>\n",
       "      <th></th>\n",
       "      <th></th>\n",
       "      <th></th>\n",
       "      <th></th>\n",
       "    </tr>\n",
       "  </thead>\n",
       "  <tbody>\n",
       "    <tr>\n",
       "      <th>--UNNdnHRhsyFUbDgumdtQ</th>\n",
       "      <td>1</td>\n",
       "      <td>0</td>\n",
       "      <td>0</td>\n",
       "      <td>0</td>\n",
       "      <td>0</td>\n",
       "      <td>0</td>\n",
       "      <td>0</td>\n",
       "      <td>0</td>\n",
       "      <td>0</td>\n",
       "      <td>0</td>\n",
       "      <td>0</td>\n",
       "      <td>0</td>\n",
       "      <td>0</td>\n",
       "      <td>0</td>\n",
       "      <td>0</td>\n",
       "    </tr>\n",
       "    <tr>\n",
       "      <th>-0OWS89ebRdvzOQkjptyEw</th>\n",
       "      <td>0</td>\n",
       "      <td>0</td>\n",
       "      <td>0</td>\n",
       "      <td>0</td>\n",
       "      <td>1</td>\n",
       "      <td>0</td>\n",
       "      <td>0</td>\n",
       "      <td>0</td>\n",
       "      <td>0</td>\n",
       "      <td>0</td>\n",
       "      <td>0</td>\n",
       "      <td>0</td>\n",
       "      <td>0</td>\n",
       "      <td>0</td>\n",
       "      <td>0</td>\n",
       "    </tr>\n",
       "    <tr>\n",
       "      <th>-0p-JeIeAY_u6NEEUMgGNg</th>\n",
       "      <td>0</td>\n",
       "      <td>0</td>\n",
       "      <td>0</td>\n",
       "      <td>1</td>\n",
       "      <td>0</td>\n",
       "      <td>0</td>\n",
       "      <td>0</td>\n",
       "      <td>0</td>\n",
       "      <td>0</td>\n",
       "      <td>0</td>\n",
       "      <td>1</td>\n",
       "      <td>0</td>\n",
       "      <td>0</td>\n",
       "      <td>0</td>\n",
       "      <td>0</td>\n",
       "    </tr>\n",
       "    <tr>\n",
       "      <th>-1ShItlulHnBsoOQWnblzw</th>\n",
       "      <td>0</td>\n",
       "      <td>0</td>\n",
       "      <td>0</td>\n",
       "      <td>0</td>\n",
       "      <td>0</td>\n",
       "      <td>0</td>\n",
       "      <td>0</td>\n",
       "      <td>0</td>\n",
       "      <td>0</td>\n",
       "      <td>1</td>\n",
       "      <td>1</td>\n",
       "      <td>0</td>\n",
       "      <td>0</td>\n",
       "      <td>0</td>\n",
       "      <td>0</td>\n",
       "    </tr>\n",
       "    <tr>\n",
       "      <th>-1XOUWwxeSAVdtuXuP9twg</th>\n",
       "      <td>0</td>\n",
       "      <td>0</td>\n",
       "      <td>0</td>\n",
       "      <td>0</td>\n",
       "      <td>1</td>\n",
       "      <td>0</td>\n",
       "      <td>0</td>\n",
       "      <td>0</td>\n",
       "      <td>0</td>\n",
       "      <td>1</td>\n",
       "      <td>0</td>\n",
       "      <td>0</td>\n",
       "      <td>0</td>\n",
       "      <td>0</td>\n",
       "      <td>0</td>\n",
       "    </tr>\n",
       "  </tbody>\n",
       "</table>\n",
       "</div>"
      ],
      "text/plain": [
       "categories              American (New)  American (Traditional)  Bars  \\\n",
       "business_id                                                            \n",
       "--UNNdnHRhsyFUbDgumdtQ               1                       0     0   \n",
       "-0OWS89ebRdvzOQkjptyEw               0                       0     0   \n",
       "-0p-JeIeAY_u6NEEUMgGNg               0                       0     0   \n",
       "-1ShItlulHnBsoOQWnblzw               0                       0     0   \n",
       "-1XOUWwxeSAVdtuXuP9twg               0                       0     0   \n",
       "\n",
       "categories              Breakfast & Brunch  Burgers  Cafes  Coffee & Tea  \\\n",
       "business_id                                                                \n",
       "--UNNdnHRhsyFUbDgumdtQ                   0        0      0             0   \n",
       "-0OWS89ebRdvzOQkjptyEw                   0        1      0             0   \n",
       "-0p-JeIeAY_u6NEEUMgGNg                   1        0      0             0   \n",
       "-1ShItlulHnBsoOQWnblzw                   0        0      0             0   \n",
       "-1XOUWwxeSAVdtuXuP9twg                   0        1      0             0   \n",
       "\n",
       "categories              Event Planning & Services  Fast Food  Food Trucks  \\\n",
       "business_id                                                                 \n",
       "--UNNdnHRhsyFUbDgumdtQ                          0          0            0   \n",
       "-0OWS89ebRdvzOQkjptyEw                          0          0            0   \n",
       "-0p-JeIeAY_u6NEEUMgGNg                          0          0            0   \n",
       "-1ShItlulHnBsoOQWnblzw                          0          0            1   \n",
       "-1XOUWwxeSAVdtuXuP9twg                          0          0            1   \n",
       "\n",
       "categories              Mexican  Nightlife  Pizza  Sandwiches  Seafood  \n",
       "business_id                                                             \n",
       "--UNNdnHRhsyFUbDgumdtQ        0          0      0           0        0  \n",
       "-0OWS89ebRdvzOQkjptyEw        0          0      0           0        0  \n",
       "-0p-JeIeAY_u6NEEUMgGNg        1          0      0           0        0  \n",
       "-1ShItlulHnBsoOQWnblzw        1          0      0           0        0  \n",
       "-1XOUWwxeSAVdtuXuP9twg        0          0      0           0        0  "
      ]
     },
     "execution_count": 9,
     "metadata": {},
     "output_type": "execute_result"
    }
   ],
   "source": [
    "# Transform each element of a list-like(list/tuple/dict/set/series/array) to a row, replicating index values.\n",
    "# list-like columns to long format [Salad, Soup, Sandwiches, Delis, Cafes, Vegetarian]每个值都变成单独一行(长表)\n",
    "big = rests5[[\"business_id\",\"categories\"]].explode(\"categories\")\n",
    "big = big[big[\"categories\"].isin(categ15)]\n",
    "big[\"values\"] = 1\n",
    "big_categ = big.pivot_table(values = \"values\",index=\"business_id\",columns=\"categories\",\n",
    "              aggfunc = \"count\",fill_value = 0)\n",
    "big_categ.head()\n",
    "\n",
    "# regard if not wrote this category:then the restaurant DOESNT belong to this category\n",
    "# impute NaN with 0"
   ]
  },
  {
   "cell_type": "code",
   "execution_count": 12,
   "metadata": {},
   "outputs": [
    {
     "data": {
      "text/plain": [
       "(12658, 14)"
      ]
     },
     "execution_count": 12,
     "metadata": {},
     "output_type": "execute_result"
    }
   ],
   "source": [
    "rests5.shape"
   ]
  },
  {
   "cell_type": "code",
   "execution_count": 13,
   "metadata": {},
   "outputs": [
    {
     "data": {
      "text/plain": [
       "(9816, 15)"
      ]
     },
     "execution_count": 13,
     "metadata": {},
     "output_type": "execute_result"
    }
   ],
   "source": [
    "big_categ.shape"
   ]
  },
  {
   "cell_type": "code",
   "execution_count": 10,
   "metadata": {},
   "outputs": [],
   "source": [
    "# Some restaurants' categories are NOT in top15 tags\n",
    "# gets filtered out in \"isin\" command\n",
    "# therefore left join with all restaurants to keep them\n",
    "\n",
    "big_categ.reset_index(inplace=True)\n",
    "categ_full = rests5.merge(big_categ,how=\"left\",on=\"business_id\")\n",
    "categ_full = categ_full.fillna(0) #此时的NaN只有可能来自于categories 因为其他已经drop了"
   ]
  },
  {
   "cell_type": "code",
   "execution_count": 80,
   "metadata": {},
   "outputs": [
    {
     "data": {
      "text/html": [
       "<div>\n",
       "<style scoped>\n",
       "    .dataframe tbody tr th:only-of-type {\n",
       "        vertical-align: middle;\n",
       "    }\n",
       "\n",
       "    .dataframe tbody tr th {\n",
       "        vertical-align: top;\n",
       "    }\n",
       "\n",
       "    .dataframe thead th {\n",
       "        text-align: right;\n",
       "    }\n",
       "</style>\n",
       "<table border=\"1\" class=\"dataframe\">\n",
       "  <thead>\n",
       "    <tr style=\"text-align: right;\">\n",
       "      <th></th>\n",
       "      <th>business_id</th>\n",
       "      <th>name</th>\n",
       "      <th>address</th>\n",
       "      <th>city</th>\n",
       "      <th>state</th>\n",
       "      <th>postal_code</th>\n",
       "      <th>latitude</th>\n",
       "      <th>longitude</th>\n",
       "      <th>stars</th>\n",
       "      <th>review_count</th>\n",
       "      <th>is_open</th>\n",
       "      <th>attributes</th>\n",
       "      <th>categories</th>\n",
       "      <th>hours</th>\n",
       "      <th>American (New)</th>\n",
       "      <th>American (Traditional)</th>\n",
       "      <th>Bars</th>\n",
       "      <th>Breakfast &amp; Brunch</th>\n",
       "      <th>Burgers</th>\n",
       "      <th>Cafes</th>\n",
       "      <th>Chinese</th>\n",
       "      <th>Coffee &amp; Tea</th>\n",
       "      <th>Event Planning &amp; Services</th>\n",
       "      <th>Fast Food</th>\n",
       "      <th>Mexican</th>\n",
       "      <th>Nightlife</th>\n",
       "      <th>Pizza</th>\n",
       "      <th>Sandwiches</th>\n",
       "      <th>Seafood</th>\n",
       "    </tr>\n",
       "  </thead>\n",
       "  <tbody>\n",
       "    <tr>\n",
       "      <th>0</th>\n",
       "      <td>tCbdrRPZA0oiIYSmHG3J0w</td>\n",
       "      <td>Flying Elephants at PDX</td>\n",
       "      <td>7000 NE Airport Way</td>\n",
       "      <td>Portland</td>\n",
       "      <td>OR</td>\n",
       "      <td>97218</td>\n",
       "      <td>45.588906</td>\n",
       "      <td>-122.593331</td>\n",
       "      <td>4.0</td>\n",
       "      <td>126</td>\n",
       "      <td>1</td>\n",
       "      <td>{'RestaurantsTakeOut': 'True', 'RestaurantsAttire': 'u'casual'', 'GoodForKids': 'True', 'BikeParking': 'False', 'OutdoorSeating': 'False', 'Ambience': '{'romantic': False, 'intimate': False, 'touristy': False, 'hipster': False, 'divey': False, 'classy': False, 'trendy': False, 'upscale': False, 'casual': True}', 'Caters': 'True', 'RestaurantsReservations': 'False', 'RestaurantsDelivery': 'False', 'HasTV': 'False', 'RestaurantsGoodForGroups': 'False', 'BusinessAcceptsCreditCards': 'True', 'NoiseLevel': 'u'average'', 'ByAppointmentOnly': 'False', 'RestaurantsPriceRange2': '2', 'WiFi': 'u'free'', 'BusinessParking': '{'garage': True, 'street': False, 'validated': False, 'lot': False, 'valet': False}', 'Alcohol': 'u'beer_and_wine'', 'GoodForMeal': '{'dessert': False, 'latenight': False, 'lunch': True, 'dinner': False, 'brunch': False, 'breakfast': True}'}</td>\n",
       "      <td>[Salad, Soup, Sandwiches, Delis, Cafes, Vegetarian]</td>\n",
       "      <td>{'Monday': '5:0-18:0', 'Tuesday': '5:0-17:0', 'Wednesday': '5:0-18:0', 'Thursday': '5:0-18:0', 'Friday': '5:0-18:0', 'Saturday': '5:0-18:0', 'Sunday': '5:0-18:0'}</td>\n",
       "      <td>0.0</td>\n",
       "      <td>0.0</td>\n",
       "      <td>0.0</td>\n",
       "      <td>0.0</td>\n",
       "      <td>0.0</td>\n",
       "      <td>1.0</td>\n",
       "      <td>0.0</td>\n",
       "      <td>0.0</td>\n",
       "      <td>0.0</td>\n",
       "      <td>0.0</td>\n",
       "      <td>0.0</td>\n",
       "      <td>0.0</td>\n",
       "      <td>0.0</td>\n",
       "      <td>1.0</td>\n",
       "      <td>0.0</td>\n",
       "    </tr>\n",
       "  </tbody>\n",
       "</table>\n",
       "</div>"
      ],
      "text/plain": [
       "              business_id                     name              address  \\\n",
       "0  tCbdrRPZA0oiIYSmHG3J0w  Flying Elephants at PDX  7000 NE Airport Way   \n",
       "\n",
       "       city state postal_code   latitude   longitude  stars  review_count  \\\n",
       "0  Portland    OR       97218  45.588906 -122.593331    4.0           126   \n",
       "\n",
       "   is_open  \\\n",
       "0        1   \n",
       "\n",
       "                                                                                                                                                                                                                                                                                                                                                                                                                                                                                                                                                                                                                                                                                                                                                                                                                                                                                       attributes  \\\n",
       "0  {'RestaurantsTakeOut': 'True', 'RestaurantsAttire': 'u'casual'', 'GoodForKids': 'True', 'BikeParking': 'False', 'OutdoorSeating': 'False', 'Ambience': '{'romantic': False, 'intimate': False, 'touristy': False, 'hipster': False, 'divey': False, 'classy': False, 'trendy': False, 'upscale': False, 'casual': True}', 'Caters': 'True', 'RestaurantsReservations': 'False', 'RestaurantsDelivery': 'False', 'HasTV': 'False', 'RestaurantsGoodForGroups': 'False', 'BusinessAcceptsCreditCards': 'True', 'NoiseLevel': 'u'average'', 'ByAppointmentOnly': 'False', 'RestaurantsPriceRange2': '2', 'WiFi': 'u'free'', 'BusinessParking': '{'garage': True, 'street': False, 'validated': False, 'lot': False, 'valet': False}', 'Alcohol': 'u'beer_and_wine'', 'GoodForMeal': '{'dessert': False, 'latenight': False, 'lunch': True, 'dinner': False, 'brunch': False, 'breakfast': True}'}   \n",
       "\n",
       "                                            categories  \\\n",
       "0  [Salad, Soup, Sandwiches, Delis, Cafes, Vegetarian]   \n",
       "\n",
       "                                                                                                                                                                hours  \\\n",
       "0  {'Monday': '5:0-18:0', 'Tuesday': '5:0-17:0', 'Wednesday': '5:0-18:0', 'Thursday': '5:0-18:0', 'Friday': '5:0-18:0', 'Saturday': '5:0-18:0', 'Sunday': '5:0-18:0'}   \n",
       "\n",
       "   American (New)  American (Traditional)  Bars  Breakfast & Brunch  Burgers  \\\n",
       "0             0.0                     0.0   0.0                 0.0      0.0   \n",
       "\n",
       "   Cafes  Chinese  Coffee & Tea  Event Planning & Services  Fast Food  \\\n",
       "0    1.0      0.0           0.0                        0.0        0.0   \n",
       "\n",
       "   Mexican  Nightlife  Pizza  Sandwiches  Seafood  \n",
       "0      0.0        0.0    0.0         1.0      0.0  "
      ]
     },
     "execution_count": 80,
     "metadata": {},
     "output_type": "execute_result"
    }
   ],
   "source": [
    "categ_full.head(1)"
   ]
  },
  {
   "cell_type": "markdown",
   "metadata": {},
   "source": [
    "## Clean attribute\n",
    "- JSON format\n",
    "- expand each key to columns"
   ]
  },
  {
   "cell_type": "code",
   "execution_count": 11,
   "metadata": {},
   "outputs": [
    {
     "data": {
      "text/html": [
       "<div>\n",
       "<style scoped>\n",
       "    .dataframe tbody tr th:only-of-type {\n",
       "        vertical-align: middle;\n",
       "    }\n",
       "\n",
       "    .dataframe tbody tr th {\n",
       "        vertical-align: top;\n",
       "    }\n",
       "\n",
       "    .dataframe thead th {\n",
       "        text-align: right;\n",
       "    }\n",
       "</style>\n",
       "<table border=\"1\" class=\"dataframe\">\n",
       "  <thead>\n",
       "    <tr style=\"text-align: right;\">\n",
       "      <th></th>\n",
       "      <th>RestaurantsTakeOut</th>\n",
       "      <th>RestaurantsAttire</th>\n",
       "      <th>GoodForKids</th>\n",
       "      <th>BikeParking</th>\n",
       "      <th>OutdoorSeating</th>\n",
       "      <th>Ambience</th>\n",
       "      <th>Caters</th>\n",
       "      <th>RestaurantsReservations</th>\n",
       "      <th>RestaurantsDelivery</th>\n",
       "      <th>HasTV</th>\n",
       "      <th>RestaurantsGoodForGroups</th>\n",
       "      <th>BusinessAcceptsCreditCards</th>\n",
       "      <th>NoiseLevel</th>\n",
       "      <th>ByAppointmentOnly</th>\n",
       "      <th>RestaurantsPriceRange2</th>\n",
       "      <th>WiFi</th>\n",
       "      <th>BusinessParking</th>\n",
       "      <th>Alcohol</th>\n",
       "      <th>GoodForMeal</th>\n",
       "      <th>DogsAllowed</th>\n",
       "      <th>CoatCheck</th>\n",
       "      <th>GoodForDancing</th>\n",
       "      <th>RestaurantsTableService</th>\n",
       "      <th>HappyHour</th>\n",
       "      <th>Music</th>\n",
       "      <th>WheelchairAccessible</th>\n",
       "      <th>Smoking</th>\n",
       "      <th>BestNights</th>\n",
       "      <th>BusinessAcceptsBitcoin</th>\n",
       "      <th>Corkage</th>\n",
       "      <th>BYOB</th>\n",
       "      <th>BYOBCorkage</th>\n",
       "      <th>DriveThru</th>\n",
       "      <th>RestaurantsCounterService</th>\n",
       "      <th>DietaryRestrictions</th>\n",
       "      <th>AgesAllowed</th>\n",
       "      <th>Open24Hours</th>\n",
       "      <th>AcceptsInsurance</th>\n",
       "    </tr>\n",
       "  </thead>\n",
       "  <tbody>\n",
       "    <tr>\n",
       "      <th>0</th>\n",
       "      <td>True</td>\n",
       "      <td>u'casual'</td>\n",
       "      <td>True</td>\n",
       "      <td>False</td>\n",
       "      <td>False</td>\n",
       "      <td>{'romantic': False, 'intimate': False, 'touristy': False, 'hipster': False, 'divey': False, 'classy': False, 'trendy': False, 'upscale': False, 'casual': True}</td>\n",
       "      <td>True</td>\n",
       "      <td>False</td>\n",
       "      <td>False</td>\n",
       "      <td>False</td>\n",
       "      <td>False</td>\n",
       "      <td>True</td>\n",
       "      <td>u'average'</td>\n",
       "      <td>False</td>\n",
       "      <td>2</td>\n",
       "      <td>u'free'</td>\n",
       "      <td>{'garage': True, 'street': False, 'validated': False, 'lot': False, 'valet': False}</td>\n",
       "      <td>u'beer_and_wine'</td>\n",
       "      <td>{'dessert': False, 'latenight': False, 'lunch': True, 'dinner': False, 'brunch': False, 'breakfast': True}</td>\n",
       "      <td>NaN</td>\n",
       "      <td>NaN</td>\n",
       "      <td>NaN</td>\n",
       "      <td>NaN</td>\n",
       "      <td>NaN</td>\n",
       "      <td>NaN</td>\n",
       "      <td>NaN</td>\n",
       "      <td>NaN</td>\n",
       "      <td>NaN</td>\n",
       "      <td>NaN</td>\n",
       "      <td>NaN</td>\n",
       "      <td>NaN</td>\n",
       "      <td>NaN</td>\n",
       "      <td>NaN</td>\n",
       "      <td>NaN</td>\n",
       "      <td>NaN</td>\n",
       "      <td>NaN</td>\n",
       "      <td>NaN</td>\n",
       "      <td>NaN</td>\n",
       "    </tr>\n",
       "  </tbody>\n",
       "</table>\n",
       "</div>"
      ],
      "text/plain": [
       "  RestaurantsTakeOut RestaurantsAttire GoodForKids BikeParking OutdoorSeating  \\\n",
       "0               True         u'casual'        True       False          False   \n",
       "\n",
       "                                                                                                                                                          Ambience  \\\n",
       "0  {'romantic': False, 'intimate': False, 'touristy': False, 'hipster': False, 'divey': False, 'classy': False, 'trendy': False, 'upscale': False, 'casual': True}   \n",
       "\n",
       "  Caters RestaurantsReservations RestaurantsDelivery  HasTV  \\\n",
       "0   True                   False               False  False   \n",
       "\n",
       "  RestaurantsGoodForGroups BusinessAcceptsCreditCards  NoiseLevel  \\\n",
       "0                    False                       True  u'average'   \n",
       "\n",
       "  ByAppointmentOnly RestaurantsPriceRange2     WiFi  \\\n",
       "0             False                      2  u'free'   \n",
       "\n",
       "                                                                       BusinessParking  \\\n",
       "0  {'garage': True, 'street': False, 'validated': False, 'lot': False, 'valet': False}   \n",
       "\n",
       "            Alcohol  \\\n",
       "0  u'beer_and_wine'   \n",
       "\n",
       "                                                                                                  GoodForMeal  \\\n",
       "0  {'dessert': False, 'latenight': False, 'lunch': True, 'dinner': False, 'brunch': False, 'breakfast': True}   \n",
       "\n",
       "  DogsAllowed CoatCheck GoodForDancing RestaurantsTableService HappyHour  \\\n",
       "0         NaN       NaN            NaN                     NaN       NaN   \n",
       "\n",
       "  Music WheelchairAccessible Smoking BestNights BusinessAcceptsBitcoin  \\\n",
       "0   NaN                  NaN     NaN        NaN                    NaN   \n",
       "\n",
       "  Corkage BYOB BYOBCorkage DriveThru RestaurantsCounterService  \\\n",
       "0     NaN  NaN         NaN       NaN                       NaN   \n",
       "\n",
       "  DietaryRestrictions AgesAllowed Open24Hours AcceptsInsurance  \n",
       "0                 NaN         NaN         NaN              NaN  "
      ]
     },
     "execution_count": 11,
     "metadata": {},
     "output_type": "execute_result"
    }
   ],
   "source": [
    "attr_df = pd.json_normalize(rests5.loc[:,\"attributes\"])\n",
    "attr_df.head(1)"
   ]
  },
  {
   "cell_type": "code",
   "execution_count": 12,
   "metadata": {},
   "outputs": [
    {
     "data": {
      "text/plain": [
       "AcceptsInsurance              0.999605\n",
       "RestaurantsCounterService     0.999210\n",
       "AgesAllowed                   0.999131\n",
       "Open24Hours                   0.998894\n",
       "DietaryRestrictions           0.998262\n",
       "BYOBCorkage                   0.933481\n",
       "Smoking                       0.899273\n",
       "GoodForDancing                0.892874\n",
       "Corkage                       0.884500\n",
       "CoatCheck                     0.881972\n",
       "BYOB                          0.875415\n",
       "ByAppointmentOnly             0.872808\n",
       "BestNights                    0.865224\n",
       "DriveThru                     0.862775\n",
       "Music                         0.841286\n",
       "BusinessAcceptsBitcoin        0.825170\n",
       "HappyHour                     0.614868\n",
       "DogsAllowed                   0.610207\n",
       "WheelchairAccessible          0.606731\n",
       "RestaurantsTableService       0.478433\n",
       "NoiseLevel                    0.276110\n",
       "GoodForMeal                   0.259283\n",
       "RestaurantsAttire             0.240322\n",
       "Caters                        0.210381\n",
       "BusinessAcceptsCreditCards    0.203034\n",
       "GoodForKids                   0.199716\n",
       "RestaurantsGoodForGroups      0.184152\n",
       "BikeParking                   0.172381\n",
       "Alcohol                       0.171591\n",
       "WiFi                          0.153895\n",
       "Ambience                      0.142835\n",
       "RestaurantsPriceRange2        0.139359\n",
       "RestaurantsReservations       0.129799\n",
       "HasTV                         0.125849\n",
       "OutdoorSeating                0.111550\n",
       "BusinessParking               0.073076\n",
       "RestaurantsDelivery           0.047717\n",
       "RestaurantsTakeOut            0.037921\n",
       "dtype: float64"
      ]
     },
     "execution_count": 12,
     "metadata": {},
     "output_type": "execute_result"
    }
   ],
   "source": [
    "# look at missing values for each column after expand keys to columns\n",
    "nan_mean = attr_df.isnull().mean().sort_values(ascending=False)\n",
    "nan_mean"
   ]
  },
  {
   "cell_type": "code",
   "execution_count": 13,
   "metadata": {},
   "outputs": [],
   "source": [
    "# drop columns if they have >30% of missing values\n",
    "dropped = nan_mean[nan_mean > 0.3].index\n",
    "attr_df = attr_df.drop(columns=dropped)"
   ]
  },
  {
   "cell_type": "code",
   "execution_count": 13,
   "metadata": {},
   "outputs": [
    {
     "data": {
      "text/plain": [
       "20"
      ]
     },
     "execution_count": 13,
     "metadata": {},
     "output_type": "execute_result"
    }
   ],
   "source": [
    "len(dropped) #drop 20 columns"
   ]
  },
  {
   "cell_type": "markdown",
   "metadata": {},
   "source": [
    "### Clean each subcategory"
   ]
  },
  {
   "cell_type": "code",
   "execution_count": 14,
   "metadata": {},
   "outputs": [],
   "source": [
    "attr_fill = attr_df.fillna(attr_df.mode().iloc[0])"
   ]
  },
  {
   "cell_type": "code",
   "execution_count": 15,
   "metadata": {},
   "outputs": [
    {
     "name": "stdout",
     "output_type": "stream",
     "text": [
      "True     11636\n",
      "False      607\n",
      "None       415\n",
      "Name: RestaurantsTakeOut, dtype: int64\n",
      "u'casual'    8180\n",
      "'casual'     4251\n",
      "u'dressy'     118\n",
      "'dressy'       94\n",
      "'formal'        5\n",
      "None            5\n",
      "u'formal'       5\n",
      "Name: RestaurantsAttire, dtype: int64\n",
      "True     10931\n",
      "False     1723\n",
      "None         4\n",
      "Name: GoodForKids, dtype: int64\n",
      "True     10720\n",
      "False     1936\n",
      "None         2\n",
      "Name: BikeParking, dtype: int64\n",
      "True     7354\n",
      "False    4277\n",
      "None     1027\n",
      "Name: OutdoorSeating, dtype: int64\n",
      "{'touristy': False, 'hipster': False, 'romantic': False, 'divey': False, 'intimate': False, 'trendy': False, 'upscale': False, 'classy': False, 'casual': False}    3150\n",
      "{'romantic': False, 'intimate': False, 'classy': False, 'hipster': False, 'divey': False, 'touristy': False, 'trendy': False, 'upscale': False, 'casual': True}     1189\n",
      "{'romantic': False, 'intimate': False, 'touristy': False, 'hipster': False, 'divey': False, 'classy': False, 'trendy': False, 'upscale': False, 'casual': True}      908\n",
      "{'touristy': False, 'hipster': False, 'romantic': False, 'divey': False, 'intimate': False, 'trendy': False, 'upscale': False, 'classy': True, 'casual': True}       766\n",
      "{'romantic': False, 'intimate': False, 'classy': False, 'hipster': False, 'divey': False, 'touristy': False, 'trendy': False, 'upscale': False, 'casual': False}     703\n",
      "                                                                                                                                                                    ... \n",
      "{'touristy': None, 'hipster': True, 'romantic': False, 'divey': None, 'intimate': False, 'trendy': True, 'upscale': False, 'classy': None, 'casual': True}             1\n",
      "{'romantic': True, 'intimate': False, 'classy': False, 'hipster': False, 'divey': False, 'touristy': False, 'trendy': False, 'upscale': False, 'casual': False}        1\n",
      "{'touristy': None, 'hipster': True, 'romantic': False, 'divey': False, 'intimate': False, 'trendy': None, 'upscale': None, 'classy': False, 'casual': True}            1\n",
      "{'touristy': None, 'hipster': None, 'romantic': None, 'intimate': None, 'trendy': None, 'upscale': None, 'classy': True, 'casual': None}                               1\n",
      "{'touristy': False, 'hipster': False, 'romantic': None, 'divey': None, 'intimate': None, 'trendy': True, 'upscale': None, 'classy': None, 'casual': True}              1\n",
      "Name: Ambience, Length: 920, dtype: int64\n",
      "True     8052\n",
      "False    4598\n",
      "None        8\n",
      "Name: Caters, dtype: int64\n",
      "False    9099\n",
      "True     3532\n",
      "None       27\n",
      "Name: RestaurantsReservations, dtype: int64\n",
      "True     8430\n",
      "False    3443\n",
      "None      785\n",
      "Name: RestaurantsDelivery, dtype: int64\n",
      "True     9273\n",
      "False    3381\n",
      "None        4\n",
      "Name: HasTV, dtype: int64\n",
      "True     11197\n",
      "False     1457\n",
      "None         4\n",
      "Name: RestaurantsGoodForGroups, dtype: int64\n",
      "True     12502\n",
      "False      156\n",
      "Name: BusinessAcceptsCreditCards, dtype: int64\n",
      "u'average'      9325\n",
      "'average'       1130\n",
      "u'quiet'        1113\n",
      "u'loud'          612\n",
      "'quiet'          186\n",
      "u'very_loud'     157\n",
      "'loud'           109\n",
      "'very_loud'       20\n",
      "None               6\n",
      "Name: NoiseLevel, dtype: int64\n",
      "2       7327\n",
      "1       4828\n",
      "3        424\n",
      "4         75\n",
      "None       4\n",
      "Name: RestaurantsPriceRange2, dtype: int64\n",
      "u'free'    6769\n",
      "u'no'      2865\n",
      "'free'     1729\n",
      "'no'       1221\n",
      "u'paid'      51\n",
      "'paid'       17\n",
      "None          6\n",
      "Name: WiFi, dtype: int64\n",
      "{'garage': False, 'street': False, 'validated': False, 'lot': True, 'valet': False}     4756\n",
      "{'garage': False, 'street': True, 'validated': False, 'lot': False, 'valet': False}     2766\n",
      "{'garage': False, 'street': False, 'validated': False, 'lot': False, 'valet': False}    1519\n",
      "{'garage': False, 'street': True, 'validated': False, 'lot': True, 'valet': False}      1161\n",
      "{'garage': True, 'street': True, 'validated': False, 'lot': False, 'valet': False}       239\n",
      "                                                                                        ... \n",
      "{'garage': False, 'street': False, 'validated': None, 'lot': False, 'valet': False}        1\n",
      "{'garage': False, 'street': None, 'validated': False, 'lot': None, 'valet': True}          1\n",
      "{'valet': False, 'garage': False, 'street': False, 'lot': True, 'validated': False}        1\n",
      "{'garage': None, 'street': False, 'validated': True, 'lot': False, 'valet': True}          1\n",
      "{'garage': True, 'street': False, 'validated': None, 'lot': True, 'valet': False}          1\n",
      "Name: BusinessParking, Length: 83, dtype: int64\n",
      "u'none'             5522\n",
      "u'full_bar'         3013\n",
      "u'beer_and_wine'    1718\n",
      "'none'              1091\n",
      "'full_bar'           807\n",
      "'beer_and_wine'      503\n",
      "None                   4\n",
      "Name: Alcohol, dtype: int64\n",
      "{'dessert': False, 'latenight': False, 'lunch': False, 'dinner': False, 'brunch': False, 'breakfast': False}    5382\n",
      "{'dessert': False, 'latenight': False, 'lunch': True, 'dinner': True, 'brunch': False, 'breakfast': False}      1658\n",
      "{'dessert': False, 'latenight': False, 'lunch': True, 'dinner': False, 'brunch': False, 'breakfast': False}      812\n",
      "{'dessert': False, 'latenight': False, 'lunch': False, 'dinner': True, 'brunch': False, 'breakfast': False}      429\n",
      "{'dessert': False, 'latenight': False, 'lunch': True, 'dinner': False, 'brunch': True, 'breakfast': True}        226\n",
      "                                                                                                                ... \n",
      "{'dessert': True, 'latenight': False, 'lunch': True, 'dinner': None, 'brunch': False, 'breakfast': False}          1\n",
      "{'dessert': False, 'latenight': None, 'lunch': False, 'dinner': True, 'brunch': None, 'breakfast': False}          1\n",
      "{'dessert': True, 'latenight': True, 'lunch': True, 'dinner': True, 'brunch': False, 'breakfast': None}            1\n",
      "{'dessert': None, 'latenight': None, 'lunch': None, 'dinner': False, 'brunch': False, 'breakfast': False}          1\n",
      "{'dessert': None, 'latenight': False, 'lunch': None, 'dinner': False, 'brunch': True, 'breakfast': True}           1\n",
      "Name: GoodForMeal, Length: 287, dtype: int64\n"
     ]
    }
   ],
   "source": [
    "for col in attr_fill.columns:\n",
    "    print(attr_fill[col].value_counts(dropna=False))"
   ]
  },
  {
   "cell_type": "code",
   "execution_count": 16,
   "metadata": {},
   "outputs": [],
   "source": [
    "# string type:remove \"u\" and \"''\" single quotation\n",
    "obj_c = [\"RestaurantsAttire\",\n",
    "        \"NoiseLevel\",\n",
    "        \"Alcohol\",\n",
    "        \"WiFi\"]\n",
    "\n",
    "attr_fill[obj_c] = attr_fill[obj_c].applymap(lambda s:re.sub(r\"^[u\\']+\",\"\",s))\\\n",
    ".applymap(lambda s:re.sub(r\"[\\']+\",\"\",s))"
   ]
  },
  {
   "cell_type": "markdown",
   "metadata": {},
   "source": [
    "`None` replace as `False`："
   ]
  },
  {
   "cell_type": "code",
   "execution_count": 17,
   "metadata": {},
   "outputs": [],
   "source": [
    "type1 = [\"RestaurantsTakeOut\",\n",
    "\"BikeParking\",\n",
    "\"OutdoorSeating\",\n",
    "\"Caters\",\n",
    "\"RestaurantsReservations\",\n",
    "\"RestaurantsDelivery\",\n",
    "\"HasTV\",\n",
    "\"RestaurantsGoodForGroups\",\n",
    "\"WiFi\",\n",
    "\"Alcohol\"]\n",
    "attr_fill[type1] = attr_fill[type1].replace(\"None\",\"False\")"
   ]
  },
  {
   "cell_type": "markdown",
   "metadata": {},
   "source": [
    "Replace `None` with mode from each column:"
   ]
  },
  {
   "cell_type": "code",
   "execution_count": 18,
   "metadata": {},
   "outputs": [],
   "source": [
    "type2 = [\n",
    "\"GoodForKids\",\n",
    "\"NoiseLevel\",\n",
    "\"RestaurantsPriceRange2\"]\n",
    "for c in type2:\n",
    "    attr_fill[c] = \\\n",
    "    attr_fill[c].replace(\"None\",attr_fill[c].mode()[0])"
   ]
  },
  {
   "cell_type": "markdown",
   "metadata": {},
   "source": [
    "Replace `False` with mode from each column:"
   ]
  },
  {
   "cell_type": "code",
   "execution_count": 19,
   "metadata": {},
   "outputs": [],
   "source": [
    "attr_fill[\"RestaurantsAttire\"] = \\\n",
    "attr_fill[\"RestaurantsAttire\"].replace(\"False\",attr_fill[\"RestaurantsAttire\"].mode()[0])"
   ]
  },
  {
   "cell_type": "code",
   "execution_count": 20,
   "metadata": {},
   "outputs": [],
   "source": [
    "# boolean type\n",
    "bools = [\n",
    "    \"RestaurantsTakeOut\",\n",
    "    \"GoodForKids\",\n",
    "    \"BikeParking\",\n",
    "    \"OutdoorSeating\",\n",
    "    \"Caters\",\n",
    "    \"RestaurantsReservations\",\n",
    "    \"RestaurantsDelivery\",\n",
    "    \"HasTV\",\n",
    "    \"RestaurantsGoodForGroups\",\n",
    "    \"BusinessAcceptsCreditCards\"\n",
    "]\n",
    "attr_fill[bools] = attr_fill[bools].replace({\"True\":1,\"False\":0})"
   ]
  },
  {
   "cell_type": "markdown",
   "metadata": {},
   "source": [
    "Columns that need to be cleaned separately\n",
    "- since they have different cleaning logic"
   ]
  },
  {
   "cell_type": "code",
   "execution_count": 23,
   "metadata": {
    "scrolled": true
   },
   "outputs": [],
   "source": [
    "attr_fill[\"Alcohol\"] = \\\n",
    "attr_fill[\"Alcohol\"].replace([\"none\",\"False\"],0).replace([\"full_bar\",\"beer_and_wine\"],1)"
   ]
  },
  {
   "cell_type": "code",
   "execution_count": 24,
   "metadata": {},
   "outputs": [],
   "source": [
    "attr_fill[\"WiFi\"] = \\\n",
    "attr_fill[\"WiFi\"].replace([\"free\",\"paid\"],1).replace([\"no\",\"False\"],0)"
   ]
  },
  {
   "cell_type": "code",
   "execution_count": 25,
   "metadata": {},
   "outputs": [],
   "source": [
    "attr_fill[\"RestaurantsPriceRange2\"] = attr_fill[\"RestaurantsPriceRange2\"].astype(\"int\") "
   ]
  },
  {
   "cell_type": "code",
   "execution_count": 26,
   "metadata": {},
   "outputs": [
    {
     "name": "stdout",
     "output_type": "stream",
     "text": [
      "<class 'pandas.core.frame.DataFrame'>\n",
      "RangeIndex: 12658 entries, 0 to 12657\n",
      "Data columns (total 18 columns):\n",
      " #   Column                      Non-Null Count  Dtype \n",
      "---  ------                      --------------  ----- \n",
      " 0   RestaurantsTakeOut          12658 non-null  int64 \n",
      " 1   RestaurantsAttire           12658 non-null  object\n",
      " 2   GoodForKids                 12658 non-null  int64 \n",
      " 3   BikeParking                 12658 non-null  int64 \n",
      " 4   OutdoorSeating              12658 non-null  int64 \n",
      " 5   Ambience                    12658 non-null  object\n",
      " 6   Caters                      12658 non-null  int64 \n",
      " 7   RestaurantsReservations     12658 non-null  int64 \n",
      " 8   RestaurantsDelivery         12658 non-null  int64 \n",
      " 9   HasTV                       12658 non-null  int64 \n",
      " 10  RestaurantsGoodForGroups    12658 non-null  int64 \n",
      " 11  BusinessAcceptsCreditCards  12658 non-null  int64 \n",
      " 12  NoiseLevel                  12658 non-null  object\n",
      " 13  RestaurantsPriceRange2      12658 non-null  int32 \n",
      " 14  WiFi                        12658 non-null  int64 \n",
      " 15  BusinessParking             12658 non-null  object\n",
      " 16  Alcohol                     12658 non-null  int64 \n",
      " 17  GoodForMeal                 12658 non-null  object\n",
      "dtypes: int32(1), int64(12), object(5)\n",
      "memory usage: 1.7+ MB\n"
     ]
    }
   ],
   "source": [
    "attr_fill.info()"
   ]
  },
  {
   "cell_type": "code",
   "execution_count": 27,
   "metadata": {},
   "outputs": [],
   "source": [
    "mapping = {\"quiet\":0,\"average\":1,\"False\":1,\"loud\":2,\"very_loud\":3}\n",
    "attr_fill[\"NoiseLevel\"] = attr_fill[\"NoiseLevel\"].map(mapping)"
   ]
  },
  {
   "cell_type": "code",
   "execution_count": 110,
   "metadata": {},
   "outputs": [
    {
     "data": {
      "text/plain": [
       "Index(['RestaurantsTakeOut', 'RestaurantsAttire', 'GoodForKids', 'BikeParking',\n",
       "       'OutdoorSeating', 'Ambience', 'Caters', 'RestaurantsReservations',\n",
       "       'RestaurantsDelivery', 'HasTV', 'RestaurantsGoodForGroups',\n",
       "       'BusinessAcceptsCreditCards', 'NoiseLevel', 'RestaurantsPriceRange2',\n",
       "       'WiFi', 'BusinessParking', 'Alcohol', 'GoodForMeal'],\n",
       "      dtype='object')"
      ]
     },
     "execution_count": 110,
     "metadata": {},
     "output_type": "execute_result"
    }
   ],
   "source": [
    "attr_fill.columns"
   ]
  },
  {
   "cell_type": "code",
   "execution_count": 28,
   "metadata": {},
   "outputs": [],
   "source": [
    "keep = ['RestaurantsTakeOut', 'RestaurantsAttire', 'GoodForKids', 'BikeParking',\n",
    "       'OutdoorSeating', 'Caters', 'RestaurantsReservations',\n",
    "       'RestaurantsDelivery', 'HasTV', 'RestaurantsGoodForGroups',\n",
    "       'BusinessAcceptsCreditCards', 'NoiseLevel', 'RestaurantsPriceRange2',\n",
    "       'WiFi','Alcohol']\n",
    "attr_keep = attr_fill.loc[:,keep]"
   ]
  },
  {
   "cell_type": "code",
   "execution_count": 29,
   "metadata": {},
   "outputs": [
    {
     "name": "stdout",
     "output_type": "stream",
     "text": [
      "1    11636\n",
      "0     1022\n",
      "Name: RestaurantsTakeOut, dtype: int64\n",
      "casual    12431\n",
      "dressy      212\n",
      "formal       10\n",
      "None          5\n",
      "Name: RestaurantsAttire, dtype: int64\n",
      "1    10935\n",
      "0     1723\n",
      "Name: GoodForKids, dtype: int64\n",
      "1    10720\n",
      "0     1938\n",
      "Name: BikeParking, dtype: int64\n",
      "1    7354\n",
      "0    5304\n",
      "Name: OutdoorSeating, dtype: int64\n",
      "1    8052\n",
      "0    4606\n",
      "Name: Caters, dtype: int64\n",
      "0    9126\n",
      "1    3532\n",
      "Name: RestaurantsReservations, dtype: int64\n",
      "1    8430\n",
      "0    4228\n",
      "Name: RestaurantsDelivery, dtype: int64\n",
      "1    9273\n",
      "0    3385\n",
      "Name: HasTV, dtype: int64\n",
      "1    11197\n",
      "0     1461\n",
      "Name: RestaurantsGoodForGroups, dtype: int64\n",
      "1    12502\n",
      "0      156\n",
      "Name: BusinessAcceptsCreditCards, dtype: int64\n",
      "1    10461\n",
      "0     1299\n",
      "2      721\n",
      "3      177\n",
      "Name: NoiseLevel, dtype: int64\n",
      "2    7331\n",
      "1    4828\n",
      "3     424\n",
      "4      75\n",
      "Name: RestaurantsPriceRange2, dtype: int64\n",
      "1    8566\n",
      "0    4092\n",
      "Name: WiFi, dtype: int64\n",
      "0    6617\n",
      "1    6041\n",
      "Name: Alcohol, dtype: int64\n"
     ]
    }
   ],
   "source": [
    "for c in keep:\n",
    "    print(attr_keep[c].value_counts())"
   ]
  },
  {
   "cell_type": "markdown",
   "metadata": {},
   "source": [
    "### BusinessParking"
   ]
  },
  {
   "cell_type": "code",
   "execution_count": 114,
   "metadata": {},
   "outputs": [
    {
     "data": {
      "text/plain": [
       "\"{'garage': True, 'street': False, 'validated': False, 'lot': False, 'valet': False}\""
      ]
     },
     "execution_count": 114,
     "metadata": {},
     "output_type": "execute_result"
    }
   ],
   "source": [
    "attr_fill[\"BusinessParking\"][0]"
   ]
  },
  {
   "cell_type": "code",
   "execution_count": 105,
   "metadata": {},
   "outputs": [
    {
     "name": "stdout",
     "output_type": "stream",
     "text": [
      "<class 'str'>\n"
     ]
    },
    {
     "data": {
      "text/plain": [
       "{'garage': True,\n",
       " 'street': False,\n",
       " 'validated': False,\n",
       " 'lot': False,\n",
       " 'valet': False}"
      ]
     },
     "execution_count": 105,
     "metadata": {},
     "output_type": "execute_result"
    }
   ],
   "source": [
    "print(type(attr_fill[\"BusinessParking\"][0])) \n",
    "#str type cannot use json_normalize directly! must be dict/JSON\n",
    "\n",
    "eval(attr_fill[\"BusinessParking\"][0]) #converting string to json #dict->json:loads\n",
    "# pd.json_normalize(eval(attr_df[\"BusinessParking\"][0]))"
   ]
  },
  {
   "cell_type": "code",
   "execution_count": 30,
   "metadata": {},
   "outputs": [],
   "source": [
    "attr_fill[\"BusinessParking\"] = \\\n",
    "attr_fill[\"BusinessParking\"].replace(\"False\",attr_fill[\"BusinessParking\"].mode()[0])\\\n",
    ".replace(\"{}\",attr_fill[\"BusinessParking\"].mode()[0]).replace(\"None\",attr_fill[\"BusinessParking\"].mode()[0])"
   ]
  },
  {
   "cell_type": "code",
   "execution_count": 31,
   "metadata": {},
   "outputs": [],
   "source": [
    "# string-->json\n",
    "parking_s = attr_fill[\"BusinessParking\"].apply(lambda s:eval(s)) \n",
    "parking_df = pd.json_normalize(parking_s)"
   ]
  },
  {
   "cell_type": "code",
   "execution_count": 128,
   "metadata": {},
   "outputs": [
    {
     "data": {
      "text/plain": [
       "garage       385\n",
       "street       426\n",
       "validated    324\n",
       "lot          372\n",
       "valet          0\n",
       "dtype: int64"
      ]
     },
     "execution_count": 128,
     "metadata": {},
     "output_type": "execute_result"
    }
   ],
   "source": [
    "# check missing values\n",
    "parking_df.isnull().sum() "
   ]
  },
  {
   "cell_type": "code",
   "execution_count": 32,
   "metadata": {},
   "outputs": [
    {
     "data": {
      "text/plain": [
       "garage       0\n",
       "street       0\n",
       "validated    0\n",
       "lot          0\n",
       "valet        0\n",
       "dtype: int64"
      ]
     },
     "execution_count": 32,
     "metadata": {},
     "output_type": "execute_result"
    }
   ],
   "source": [
    "# impute missing values\n",
    "parking_df = parking_df.fillna(False)\n",
    "parking_df.isnull().sum()"
   ]
  },
  {
   "cell_type": "markdown",
   "metadata": {},
   "source": [
    "### Ambience"
   ]
  },
  {
   "cell_type": "code",
   "execution_count": 33,
   "metadata": {},
   "outputs": [],
   "source": [
    "# \"False\"-->treat as NOT have any ambience type\n",
    "default = \"{'touristy': False,\\\n",
    "             'hipster': False,\\\n",
    "             'romantic': False,\\\n",
    "             'divey': False,\\\n",
    "             'intimate': False,\\\n",
    "             'trendy': False,\\\n",
    "             'upscale': False,\\\n",
    "             'classy': False,\\\n",
    "             'casual': False}\"\n",
    "attr_fill[\"Ambience\"] = \\\n",
    "attr_fill[\"Ambience\"].replace([\"False\",\"None\"],default)\n",
    "\n",
    "# missing--impute with mode\n",
    "attr_fill[\"Ambience\"] = \\\n",
    "attr_fill[\"Ambience\"].fillna(attr_fill[\"Ambience\"].mode()[0])"
   ]
  },
  {
   "cell_type": "code",
   "execution_count": 34,
   "metadata": {},
   "outputs": [],
   "source": [
    "amb_s = attr_fill[\"Ambience\"].apply(lambda s:eval(s)) #string-->json format in order to use json_normalize\n",
    "amb_df = pd.json_normalize(list(amb_s.values))"
   ]
  },
  {
   "cell_type": "code",
   "execution_count": 35,
   "metadata": {},
   "outputs": [],
   "source": [
    "amb_df = amb_df.fillna(False)"
   ]
  },
  {
   "cell_type": "code",
   "execution_count": 169,
   "metadata": {},
   "outputs": [
    {
     "data": {
      "text/plain": [
       "romantic    0\n",
       "intimate    0\n",
       "touristy    0\n",
       "hipster     0\n",
       "divey       0\n",
       "classy      0\n",
       "trendy      0\n",
       "upscale     0\n",
       "casual      0\n",
       "dtype: int64"
      ]
     },
     "execution_count": 169,
     "metadata": {},
     "output_type": "execute_result"
    }
   ],
   "source": [
    "amb_df.isnull().sum()"
   ]
  },
  {
   "cell_type": "markdown",
   "metadata": {},
   "source": [
    "### GoodForMeal"
   ]
  },
  {
   "cell_type": "code",
   "execution_count": 36,
   "metadata": {},
   "outputs": [],
   "source": [
    "# GoodForMeal\n",
    "default = \"{'dessert': False,\\\n",
    " 'latenight': False,\\\n",
    " 'lunch': False,\\\n",
    " 'dinner': False,\\\n",
    " 'brunch': False,\\\n",
    " 'breakfast': False}\"\n",
    "attr_fill[\"GoodForMeal\"] = \\\n",
    "attr_fill[\"GoodForMeal\"].replace([\"False\",\"None\"],default)"
   ]
  },
  {
   "cell_type": "code",
   "execution_count": 37,
   "metadata": {},
   "outputs": [],
   "source": [
    "meal_s = attr_fill[\"GoodForMeal\"].apply(lambda s:eval(s))\n",
    "\n",
    "meal_df = pd.json_normalize(meal_s)"
   ]
  },
  {
   "cell_type": "code",
   "execution_count": 38,
   "metadata": {},
   "outputs": [],
   "source": [
    "meal_df = meal_df.fillna(False)"
   ]
  },
  {
   "cell_type": "markdown",
   "metadata": {},
   "source": [
    "### Combine attributes"
   ]
  },
  {
   "cell_type": "code",
   "execution_count": 39,
   "metadata": {},
   "outputs": [
    {
     "data": {
      "text/plain": [
       "(12658, 35)"
      ]
     },
     "execution_count": 39,
     "metadata": {},
     "output_type": "execute_result"
    }
   ],
   "source": [
    "attr_df_final = pd.concat([attr_keep,parking_df,amb_df,meal_df],axis=1)\n",
    "attr_df_final.shape"
   ]
  },
  {
   "cell_type": "code",
   "execution_count": 40,
   "metadata": {},
   "outputs": [],
   "source": [
    "# boolean columns convert to numeric columns\n",
    "bools = attr_df_final.select_dtypes(\"bool\").columns\n",
    "attr_df_final[bools] = attr_df_final[bools].astype(\"int\")"
   ]
  },
  {
   "cell_type": "code",
   "execution_count": 36,
   "metadata": {},
   "outputs": [
    {
     "name": "stdout",
     "output_type": "stream",
     "text": [
      "<class 'pandas.core.frame.DataFrame'>\n",
      "RangeIndex: 12658 entries, 0 to 12657\n",
      "Data columns (total 35 columns):\n",
      " #   Column                      Non-Null Count  Dtype \n",
      "---  ------                      --------------  ----- \n",
      " 0   RestaurantsTakeOut          12658 non-null  int64 \n",
      " 1   RestaurantsAttire           12658 non-null  object\n",
      " 2   GoodForKids                 12658 non-null  int64 \n",
      " 3   BikeParking                 12658 non-null  int64 \n",
      " 4   OutdoorSeating              12658 non-null  int64 \n",
      " 5   Caters                      12658 non-null  int64 \n",
      " 6   RestaurantsReservations     12658 non-null  int64 \n",
      " 7   RestaurantsDelivery         12658 non-null  int64 \n",
      " 8   HasTV                       12658 non-null  int64 \n",
      " 9   RestaurantsGoodForGroups    12658 non-null  int64 \n",
      " 10  BusinessAcceptsCreditCards  12658 non-null  int64 \n",
      " 11  NoiseLevel                  12658 non-null  int64 \n",
      " 12  RestaurantsPriceRange2      12658 non-null  int32 \n",
      " 13  WiFi                        12658 non-null  object\n",
      " 14  Alcohol                     12658 non-null  object\n",
      " 15  garage                      12658 non-null  int32 \n",
      " 16  street                      12658 non-null  int32 \n",
      " 17  validated                   12658 non-null  int32 \n",
      " 18  lot                         12658 non-null  int32 \n",
      " 19  valet                       12658 non-null  int32 \n",
      " 20  romantic                    12658 non-null  int32 \n",
      " 21  intimate                    12658 non-null  int32 \n",
      " 22  touristy                    12658 non-null  int32 \n",
      " 23  hipster                     12658 non-null  int32 \n",
      " 24  divey                       12658 non-null  int32 \n",
      " 25  classy                      12658 non-null  int32 \n",
      " 26  trendy                      12658 non-null  int32 \n",
      " 27  upscale                     12658 non-null  int32 \n",
      " 28  casual                      12658 non-null  int32 \n",
      " 29  dessert                     12658 non-null  int32 \n",
      " 30  latenight                   12658 non-null  int32 \n",
      " 31  lunch                       12658 non-null  int32 \n",
      " 32  dinner                      12658 non-null  int32 \n",
      " 33  brunch                      12658 non-null  int32 \n",
      " 34  breakfast                   12658 non-null  int32 \n",
      "dtypes: int32(21), int64(11), object(3)\n",
      "memory usage: 2.4+ MB\n"
     ]
    }
   ],
   "source": [
    "attr_df_final.info()"
   ]
  },
  {
   "cell_type": "markdown",
   "metadata": {
    "id": "9efNkjuVpbe-"
   },
   "source": [
    "## Clean hour"
   ]
  },
  {
   "cell_type": "code",
   "execution_count": 42,
   "metadata": {
    "id": "_zNHTPTppbil"
   },
   "outputs": [],
   "source": [
    "hour_df = pd.json_normalize(rests5[\"hours\"]) # dict-->flat table"
   ]
  },
  {
   "cell_type": "code",
   "execution_count": 140,
   "metadata": {
    "id": "_zNHTPTppbil"
   },
   "outputs": [
    {
     "data": {
      "text/html": [
       "<div>\n",
       "<style scoped>\n",
       "    .dataframe tbody tr th:only-of-type {\n",
       "        vertical-align: middle;\n",
       "    }\n",
       "\n",
       "    .dataframe tbody tr th {\n",
       "        vertical-align: top;\n",
       "    }\n",
       "\n",
       "    .dataframe thead th {\n",
       "        text-align: right;\n",
       "    }\n",
       "</style>\n",
       "<table border=\"1\" class=\"dataframe\">\n",
       "  <thead>\n",
       "    <tr style=\"text-align: right;\">\n",
       "      <th></th>\n",
       "      <th>Monday</th>\n",
       "      <th>Tuesday</th>\n",
       "      <th>Wednesday</th>\n",
       "      <th>Thursday</th>\n",
       "      <th>Friday</th>\n",
       "      <th>Saturday</th>\n",
       "      <th>Sunday</th>\n",
       "    </tr>\n",
       "  </thead>\n",
       "  <tbody>\n",
       "    <tr>\n",
       "      <th>0</th>\n",
       "      <td>5:0-18:0</td>\n",
       "      <td>5:0-17:0</td>\n",
       "      <td>5:0-18:0</td>\n",
       "      <td>5:0-18:0</td>\n",
       "      <td>5:0-18:0</td>\n",
       "      <td>5:0-18:0</td>\n",
       "      <td>5:0-18:0</td>\n",
       "    </tr>\n",
       "    <tr>\n",
       "      <th>1</th>\n",
       "      <td>17:0-21:0</td>\n",
       "      <td>17:0-21:0</td>\n",
       "      <td>17:0-21:0</td>\n",
       "      <td>17:0-21:0</td>\n",
       "      <td>17:0-21:0</td>\n",
       "      <td>17:0-21:0</td>\n",
       "      <td>17:0-21:0</td>\n",
       "    </tr>\n",
       "    <tr>\n",
       "      <th>2</th>\n",
       "      <td>NaN</td>\n",
       "      <td>11:0-18:0</td>\n",
       "      <td>11:0-18:0</td>\n",
       "      <td>11:0-18:0</td>\n",
       "      <td>11:0-18:0</td>\n",
       "      <td>11:0-18:0</td>\n",
       "      <td>NaN</td>\n",
       "    </tr>\n",
       "    <tr>\n",
       "      <th>3</th>\n",
       "      <td>0:0-0:0</td>\n",
       "      <td>7:0-22:0</td>\n",
       "      <td>7:0-22:0</td>\n",
       "      <td>7:0-22:0</td>\n",
       "      <td>7:0-22:0</td>\n",
       "      <td>7:0-22:0</td>\n",
       "      <td>7:0-22:0</td>\n",
       "    </tr>\n",
       "    <tr>\n",
       "      <th>4</th>\n",
       "      <td>6:30-22:0</td>\n",
       "      <td>6:30-22:0</td>\n",
       "      <td>6:30-22:0</td>\n",
       "      <td>6:30-22:0</td>\n",
       "      <td>6:30-22:0</td>\n",
       "      <td>6:30-22:0</td>\n",
       "      <td>6:30-20:0</td>\n",
       "    </tr>\n",
       "    <tr>\n",
       "      <th>5</th>\n",
       "      <td>6:0-21:0</td>\n",
       "      <td>6:0-21:0</td>\n",
       "      <td>6:0-21:0</td>\n",
       "      <td>6:0-21:0</td>\n",
       "      <td>6:0-21:0</td>\n",
       "      <td>6:0-21:0</td>\n",
       "      <td>6:0-21:0</td>\n",
       "    </tr>\n",
       "    <tr>\n",
       "      <th>6</th>\n",
       "      <td>7:0-23:0</td>\n",
       "      <td>7:0-23:0</td>\n",
       "      <td>7:0-23:0</td>\n",
       "      <td>7:0-23:0</td>\n",
       "      <td>7:0-0:0</td>\n",
       "      <td>7:0-0:0</td>\n",
       "      <td>7:0-23:0</td>\n",
       "    </tr>\n",
       "    <tr>\n",
       "      <th>7</th>\n",
       "      <td>0:0-0:0</td>\n",
       "      <td>11:0-22:0</td>\n",
       "      <td>11:0-22:0</td>\n",
       "      <td>16:30-22:0</td>\n",
       "      <td>11:0-22:0</td>\n",
       "      <td>11:0-22:0</td>\n",
       "      <td>11:0-22:0</td>\n",
       "    </tr>\n",
       "    <tr>\n",
       "      <th>8</th>\n",
       "      <td>10:0-17:0</td>\n",
       "      <td>10:0-17:0</td>\n",
       "      <td>10:0-17:0</td>\n",
       "      <td>10:0-17:0</td>\n",
       "      <td>10:0-17:0</td>\n",
       "      <td>10:0-16:0</td>\n",
       "      <td>10:0-16:0</td>\n",
       "    </tr>\n",
       "    <tr>\n",
       "      <th>9</th>\n",
       "      <td>6:30-1:0</td>\n",
       "      <td>6:30-1:0</td>\n",
       "      <td>6:30-1:0</td>\n",
       "      <td>6:30-1:0</td>\n",
       "      <td>6:30-1:0</td>\n",
       "      <td>6:30-1:0</td>\n",
       "      <td>6:30-1:0</td>\n",
       "    </tr>\n",
       "  </tbody>\n",
       "</table>\n",
       "</div>"
      ],
      "text/plain": [
       "      Monday    Tuesday  Wednesday    Thursday     Friday   Saturday  \\\n",
       "0   5:0-18:0   5:0-17:0   5:0-18:0    5:0-18:0   5:0-18:0   5:0-18:0   \n",
       "1  17:0-21:0  17:0-21:0  17:0-21:0   17:0-21:0  17:0-21:0  17:0-21:0   \n",
       "2        NaN  11:0-18:0  11:0-18:0   11:0-18:0  11:0-18:0  11:0-18:0   \n",
       "3    0:0-0:0   7:0-22:0   7:0-22:0    7:0-22:0   7:0-22:0   7:0-22:0   \n",
       "4  6:30-22:0  6:30-22:0  6:30-22:0   6:30-22:0  6:30-22:0  6:30-22:0   \n",
       "5   6:0-21:0   6:0-21:0   6:0-21:0    6:0-21:0   6:0-21:0   6:0-21:0   \n",
       "6   7:0-23:0   7:0-23:0   7:0-23:0    7:0-23:0    7:0-0:0    7:0-0:0   \n",
       "7    0:0-0:0  11:0-22:0  11:0-22:0  16:30-22:0  11:0-22:0  11:0-22:0   \n",
       "8  10:0-17:0  10:0-17:0  10:0-17:0   10:0-17:0  10:0-17:0  10:0-16:0   \n",
       "9   6:30-1:0   6:30-1:0   6:30-1:0    6:30-1:0   6:30-1:0   6:30-1:0   \n",
       "\n",
       "      Sunday  \n",
       "0   5:0-18:0  \n",
       "1  17:0-21:0  \n",
       "2        NaN  \n",
       "3   7:0-22:0  \n",
       "4  6:30-20:0  \n",
       "5   6:0-21:0  \n",
       "6   7:0-23:0  \n",
       "7  11:0-22:0  \n",
       "8  10:0-16:0  \n",
       "9   6:30-1:0  "
      ]
     },
     "execution_count": 140,
     "metadata": {},
     "output_type": "execute_result"
    }
   ],
   "source": [
    "hour_df.head(10)"
   ]
  },
  {
   "cell_type": "markdown",
   "metadata": {},
   "source": [
    "- New Variables：\n",
    "    - `open_days` how many days a restaurant opens per week（non-null values in a row）\n",
    "    - `open_hours` how many hours a restaurant opens per week"
   ]
  },
  {
   "cell_type": "code",
   "execution_count": 43,
   "metadata": {},
   "outputs": [],
   "source": [
    "open_s = (~hour_df.isnull()).sum(axis=1) #how many non-null values in a row"
   ]
  },
  {
   "cell_type": "code",
   "execution_count": 45,
   "metadata": {},
   "outputs": [],
   "source": [
    "# total hours per week\n",
    "def count_hours(row):\n",
    "    \"\"\"\n",
    "    row:dict type\n",
    "    \"\"\"\n",
    "    week_hours = 0\n",
    "    for val in row.values(): #extract values from dict:everyday opening hours\n",
    "        opent,closet = val.split(\"-\")\n",
    "        opent = datetime.strptime(opent,\"%H:%M\") #5:0--input only has H & M part\n",
    "        closet = datetime.strptime(closet,\"%H:%M\") #18:0\n",
    "        duration = closet - opent \n",
    "        hour = duration.seconds/3600\n",
    "        week_hours += hour\n",
    "    return week_hours"
   ]
  },
  {
   "cell_type": "code",
   "execution_count": 46,
   "metadata": {},
   "outputs": [],
   "source": [
    "hour_s = rests5[\"hours\"].apply(count_hours)"
   ]
  },
  {
   "cell_type": "code",
   "execution_count": 47,
   "metadata": {},
   "outputs": [],
   "source": [
    "hour_df_final = pd.concat([open_s,hour_s],axis=1)\n",
    "hour_df_final = hour_df_final.rename(columns={0:\"open_days\",\"hours\":\"open_hours\"})"
   ]
  },
  {
   "cell_type": "markdown",
   "metadata": {},
   "source": [
    "## Final Concatenation"
   ]
  },
  {
   "cell_type": "code",
   "execution_count": 48,
   "metadata": {},
   "outputs": [],
   "source": [
    "# First reset index before concatenating\n",
    "categ_full.reset_index(drop=True,inplace=True)\n",
    "attr_df_final.reset_index(drop=True,inplace=True)\n",
    "hour_df_final.reset_index(drop=True,inplace=True)\n",
    "rests_final = pd.concat([categ_full,attr_df_final,hour_df_final],axis=1)"
   ]
  },
  {
   "cell_type": "code",
   "execution_count": 45,
   "metadata": {},
   "outputs": [
    {
     "data": {
      "text/plain": [
       "(12658, 66)"
      ]
     },
     "execution_count": 45,
     "metadata": {},
     "output_type": "execute_result"
    }
   ],
   "source": [
    "rests_final.shape"
   ]
  },
  {
   "cell_type": "code",
   "execution_count": 189,
   "metadata": {},
   "outputs": [
    {
     "data": {
      "text/html": [
       "<div>\n",
       "<style scoped>\n",
       "    .dataframe tbody tr th:only-of-type {\n",
       "        vertical-align: middle;\n",
       "    }\n",
       "\n",
       "    .dataframe tbody tr th {\n",
       "        vertical-align: top;\n",
       "    }\n",
       "\n",
       "    .dataframe thead th {\n",
       "        text-align: right;\n",
       "    }\n",
       "</style>\n",
       "<table border=\"1\" class=\"dataframe\">\n",
       "  <thead>\n",
       "    <tr style=\"text-align: right;\">\n",
       "      <th></th>\n",
       "      <th>business_id</th>\n",
       "      <th>name</th>\n",
       "      <th>address</th>\n",
       "      <th>city</th>\n",
       "      <th>state</th>\n",
       "      <th>postal_code</th>\n",
       "      <th>latitude</th>\n",
       "      <th>longitude</th>\n",
       "      <th>stars</th>\n",
       "      <th>review_count</th>\n",
       "      <th>is_open</th>\n",
       "      <th>attributes</th>\n",
       "      <th>categories</th>\n",
       "      <th>hours</th>\n",
       "      <th>American (New)</th>\n",
       "      <th>American (Traditional)</th>\n",
       "      <th>Bars</th>\n",
       "      <th>Breakfast &amp; Brunch</th>\n",
       "      <th>Burgers</th>\n",
       "      <th>Cafes</th>\n",
       "      <th>Coffee &amp; Tea</th>\n",
       "      <th>Event Planning &amp; Services</th>\n",
       "      <th>Fast Food</th>\n",
       "      <th>Food Trucks</th>\n",
       "      <th>Mexican</th>\n",
       "      <th>Nightlife</th>\n",
       "      <th>Pizza</th>\n",
       "      <th>Sandwiches</th>\n",
       "      <th>Seafood</th>\n",
       "      <th>RestaurantsTakeOut</th>\n",
       "      <th>RestaurantsAttire</th>\n",
       "      <th>GoodForKids</th>\n",
       "      <th>BikeParking</th>\n",
       "      <th>OutdoorSeating</th>\n",
       "      <th>Caters</th>\n",
       "      <th>RestaurantsReservations</th>\n",
       "      <th>RestaurantsDelivery</th>\n",
       "      <th>HasTV</th>\n",
       "      <th>RestaurantsGoodForGroups</th>\n",
       "      <th>BusinessAcceptsCreditCards</th>\n",
       "      <th>NoiseLevel</th>\n",
       "      <th>RestaurantsPriceRange2</th>\n",
       "      <th>WiFi</th>\n",
       "      <th>Alcohol</th>\n",
       "      <th>garage</th>\n",
       "      <th>street</th>\n",
       "      <th>validated</th>\n",
       "      <th>lot</th>\n",
       "      <th>valet</th>\n",
       "      <th>romantic</th>\n",
       "      <th>intimate</th>\n",
       "      <th>touristy</th>\n",
       "      <th>hipster</th>\n",
       "      <th>divey</th>\n",
       "      <th>classy</th>\n",
       "      <th>trendy</th>\n",
       "      <th>upscale</th>\n",
       "      <th>casual</th>\n",
       "      <th>dessert</th>\n",
       "      <th>latenight</th>\n",
       "      <th>lunch</th>\n",
       "      <th>dinner</th>\n",
       "      <th>brunch</th>\n",
       "      <th>breakfast</th>\n",
       "      <th>open_days</th>\n",
       "      <th>open_hours</th>\n",
       "    </tr>\n",
       "  </thead>\n",
       "  <tbody>\n",
       "    <tr>\n",
       "      <th>0</th>\n",
       "      <td>tCbdrRPZA0oiIYSmHG3J0w</td>\n",
       "      <td>Flying Elephants at PDX</td>\n",
       "      <td>7000 NE Airport Way</td>\n",
       "      <td>Portland</td>\n",
       "      <td>OR</td>\n",
       "      <td>97218</td>\n",
       "      <td>45.588906</td>\n",
       "      <td>-122.593331</td>\n",
       "      <td>4.0</td>\n",
       "      <td>126</td>\n",
       "      <td>1</td>\n",
       "      <td>{'RestaurantsTakeOut': 'True', 'RestaurantsAttire': 'u'casual'', 'GoodForKids': 'True', 'BikeParking': 'False', 'OutdoorSeating': 'False', 'Ambience': '{'romantic': False, 'intimate': False, 'touristy': False, 'hipster': False, 'divey': False, 'classy': False, 'trendy': False, 'upscale': False, 'casual': True}', 'Caters': 'True', 'RestaurantsReservations': 'False', 'RestaurantsDelivery': 'False', 'HasTV': 'False', 'RestaurantsGoodForGroups': 'False', 'BusinessAcceptsCreditCards': 'True', 'NoiseLevel': 'u'average'', 'ByAppointmentOnly': 'False', 'RestaurantsPriceRange2': '2', 'WiFi': 'u'free'', 'BusinessParking': '{'garage': True, 'street': False, 'validated': False, 'lot': False, 'valet': False}', 'Alcohol': 'u'beer_and_wine'', 'GoodForMeal': '{'dessert': False, 'latenight': False, 'lunch': True, 'dinner': False, 'brunch': False, 'breakfast': True}'}</td>\n",
       "      <td>[Salad, Soup, Sandwiches, Delis, Cafes, Vegetarian]</td>\n",
       "      <td>{'Monday': '5:0-18:0', 'Tuesday': '5:0-17:0', 'Wednesday': '5:0-18:0', 'Thursday': '5:0-18:0', 'Friday': '5:0-18:0', 'Saturday': '5:0-18:0', 'Sunday': '5:0-18:0'}</td>\n",
       "      <td>0.0</td>\n",
       "      <td>0.0</td>\n",
       "      <td>0.0</td>\n",
       "      <td>0.0</td>\n",
       "      <td>0.0</td>\n",
       "      <td>1.0</td>\n",
       "      <td>0.0</td>\n",
       "      <td>0.0</td>\n",
       "      <td>0.0</td>\n",
       "      <td>0.0</td>\n",
       "      <td>0.0</td>\n",
       "      <td>0.0</td>\n",
       "      <td>0.0</td>\n",
       "      <td>1.0</td>\n",
       "      <td>0.0</td>\n",
       "      <td>1</td>\n",
       "      <td>casual</td>\n",
       "      <td>1</td>\n",
       "      <td>0</td>\n",
       "      <td>0</td>\n",
       "      <td>1</td>\n",
       "      <td>0</td>\n",
       "      <td>0</td>\n",
       "      <td>0</td>\n",
       "      <td>0</td>\n",
       "      <td>1</td>\n",
       "      <td>1</td>\n",
       "      <td>2</td>\n",
       "      <td>1</td>\n",
       "      <td>1</td>\n",
       "      <td>1</td>\n",
       "      <td>0</td>\n",
       "      <td>0</td>\n",
       "      <td>0</td>\n",
       "      <td>0</td>\n",
       "      <td>0</td>\n",
       "      <td>0</td>\n",
       "      <td>0</td>\n",
       "      <td>0</td>\n",
       "      <td>0</td>\n",
       "      <td>0</td>\n",
       "      <td>0</td>\n",
       "      <td>0</td>\n",
       "      <td>1</td>\n",
       "      <td>0</td>\n",
       "      <td>0</td>\n",
       "      <td>1</td>\n",
       "      <td>0</td>\n",
       "      <td>0</td>\n",
       "      <td>1</td>\n",
       "      <td>7</td>\n",
       "      <td>90.0</td>\n",
       "    </tr>\n",
       "  </tbody>\n",
       "</table>\n",
       "</div>"
      ],
      "text/plain": [
       "              business_id                     name              address  \\\n",
       "0  tCbdrRPZA0oiIYSmHG3J0w  Flying Elephants at PDX  7000 NE Airport Way   \n",
       "\n",
       "       city state postal_code   latitude   longitude  stars  review_count  \\\n",
       "0  Portland    OR       97218  45.588906 -122.593331    4.0           126   \n",
       "\n",
       "   is_open  \\\n",
       "0        1   \n",
       "\n",
       "                                                                                                                                                                                                                                                                                                                                                                                                                                                                                                                                                                                                                                                                                                                                                                                                                                                                                       attributes  \\\n",
       "0  {'RestaurantsTakeOut': 'True', 'RestaurantsAttire': 'u'casual'', 'GoodForKids': 'True', 'BikeParking': 'False', 'OutdoorSeating': 'False', 'Ambience': '{'romantic': False, 'intimate': False, 'touristy': False, 'hipster': False, 'divey': False, 'classy': False, 'trendy': False, 'upscale': False, 'casual': True}', 'Caters': 'True', 'RestaurantsReservations': 'False', 'RestaurantsDelivery': 'False', 'HasTV': 'False', 'RestaurantsGoodForGroups': 'False', 'BusinessAcceptsCreditCards': 'True', 'NoiseLevel': 'u'average'', 'ByAppointmentOnly': 'False', 'RestaurantsPriceRange2': '2', 'WiFi': 'u'free'', 'BusinessParking': '{'garage': True, 'street': False, 'validated': False, 'lot': False, 'valet': False}', 'Alcohol': 'u'beer_and_wine'', 'GoodForMeal': '{'dessert': False, 'latenight': False, 'lunch': True, 'dinner': False, 'brunch': False, 'breakfast': True}'}   \n",
       "\n",
       "                                            categories  \\\n",
       "0  [Salad, Soup, Sandwiches, Delis, Cafes, Vegetarian]   \n",
       "\n",
       "                                                                                                                                                                hours  \\\n",
       "0  {'Monday': '5:0-18:0', 'Tuesday': '5:0-17:0', 'Wednesday': '5:0-18:0', 'Thursday': '5:0-18:0', 'Friday': '5:0-18:0', 'Saturday': '5:0-18:0', 'Sunday': '5:0-18:0'}   \n",
       "\n",
       "   American (New)  American (Traditional)  Bars  Breakfast & Brunch  Burgers  \\\n",
       "0             0.0                     0.0   0.0                 0.0      0.0   \n",
       "\n",
       "   Cafes  Coffee & Tea  Event Planning & Services  Fast Food  Food Trucks  \\\n",
       "0    1.0           0.0                        0.0        0.0          0.0   \n",
       "\n",
       "   Mexican  Nightlife  Pizza  Sandwiches  Seafood  RestaurantsTakeOut  \\\n",
       "0      0.0        0.0    0.0         1.0      0.0                   1   \n",
       "\n",
       "  RestaurantsAttire  GoodForKids  BikeParking  OutdoorSeating  Caters  \\\n",
       "0            casual            1            0               0       1   \n",
       "\n",
       "   RestaurantsReservations  RestaurantsDelivery  HasTV  \\\n",
       "0                        0                    0      0   \n",
       "\n",
       "   RestaurantsGoodForGroups  BusinessAcceptsCreditCards  NoiseLevel  \\\n",
       "0                         0                           1           1   \n",
       "\n",
       "   RestaurantsPriceRange2  WiFi  Alcohol  garage  street  validated  lot  \\\n",
       "0                       2     1        1       1       0          0    0   \n",
       "\n",
       "   valet  romantic  intimate  touristy  hipster  divey  classy  trendy  \\\n",
       "0      0         0         0         0        0      0       0       0   \n",
       "\n",
       "   upscale  casual  dessert  latenight  lunch  dinner  brunch  breakfast  \\\n",
       "0        0       1        0          0      1       0       0          1   \n",
       "\n",
       "   open_days  open_hours  \n",
       "0          7        90.0  "
      ]
     },
     "execution_count": 189,
     "metadata": {},
     "output_type": "execute_result"
    }
   ],
   "source": [
    "rests_final.head(1)"
   ]
  },
  {
   "cell_type": "code",
   "execution_count": 49,
   "metadata": {},
   "outputs": [],
   "source": [
    "# drop unnecessary columns\n",
    "# since postal_code cannot be treated as number\n",
    "dropped = [\"business_id\",\"address\",\"postal_code\",\"attributes\",\"name\",\"hours\",\"categories\"] \n",
    "rests_final = rests_final.drop(dropped,axis=1)"
   ]
  },
  {
   "cell_type": "code",
   "execution_count": 50,
   "metadata": {},
   "outputs": [
    {
     "name": "stdout",
     "output_type": "stream",
     "text": [
      "<class 'pandas.core.frame.DataFrame'>\n",
      "RangeIndex: 12658 entries, 0 to 12657\n",
      "Data columns (total 59 columns):\n",
      " #   Column                      Non-Null Count  Dtype  \n",
      "---  ------                      --------------  -----  \n",
      " 0   city                        12658 non-null  object \n",
      " 1   state                       12658 non-null  object \n",
      " 2   latitude                    12658 non-null  float64\n",
      " 3   longitude                   12658 non-null  float64\n",
      " 4   stars                       12658 non-null  float64\n",
      " 5   review_count                12658 non-null  int64  \n",
      " 6   is_open                     12658 non-null  int64  \n",
      " 7   American (New)              12658 non-null  float64\n",
      " 8   American (Traditional)      12658 non-null  float64\n",
      " 9   Bars                        12658 non-null  float64\n",
      " 10  Breakfast & Brunch          12658 non-null  float64\n",
      " 11  Burgers                     12658 non-null  float64\n",
      " 12  Cafes                       12658 non-null  float64\n",
      " 13  Coffee & Tea                12658 non-null  float64\n",
      " 14  Event Planning & Services   12658 non-null  float64\n",
      " 15  Fast Food                   12658 non-null  float64\n",
      " 16  Food Trucks                 12658 non-null  float64\n",
      " 17  Mexican                     12658 non-null  float64\n",
      " 18  Nightlife                   12658 non-null  float64\n",
      " 19  Pizza                       12658 non-null  float64\n",
      " 20  Sandwiches                  12658 non-null  float64\n",
      " 21  Seafood                     12658 non-null  float64\n",
      " 22  RestaurantsTakeOut          12658 non-null  int64  \n",
      " 23  RestaurantsAttire           12658 non-null  object \n",
      " 24  GoodForKids                 12658 non-null  int64  \n",
      " 25  BikeParking                 12658 non-null  int64  \n",
      " 26  OutdoorSeating              12658 non-null  int64  \n",
      " 27  Caters                      12658 non-null  int64  \n",
      " 28  RestaurantsReservations     12658 non-null  int64  \n",
      " 29  RestaurantsDelivery         12658 non-null  int64  \n",
      " 30  HasTV                       12658 non-null  int64  \n",
      " 31  RestaurantsGoodForGroups    12658 non-null  int64  \n",
      " 32  BusinessAcceptsCreditCards  12658 non-null  int64  \n",
      " 33  NoiseLevel                  12658 non-null  int64  \n",
      " 34  RestaurantsPriceRange2      12658 non-null  int32  \n",
      " 35  WiFi                        12658 non-null  int64  \n",
      " 36  Alcohol                     12658 non-null  int64  \n",
      " 37  garage                      12658 non-null  int32  \n",
      " 38  street                      12658 non-null  int32  \n",
      " 39  validated                   12658 non-null  int32  \n",
      " 40  lot                         12658 non-null  int32  \n",
      " 41  valet                       12658 non-null  int32  \n",
      " 42  romantic                    12658 non-null  int32  \n",
      " 43  intimate                    12658 non-null  int32  \n",
      " 44  touristy                    12658 non-null  int32  \n",
      " 45  hipster                     12658 non-null  int32  \n",
      " 46  divey                       12658 non-null  int32  \n",
      " 47  classy                      12658 non-null  int32  \n",
      " 48  trendy                      12658 non-null  int32  \n",
      " 49  upscale                     12658 non-null  int32  \n",
      " 50  casual                      12658 non-null  int32  \n",
      " 51  dessert                     12658 non-null  int32  \n",
      " 52  latenight                   12658 non-null  int32  \n",
      " 53  lunch                       12658 non-null  int32  \n",
      " 54  dinner                      12658 non-null  int32  \n",
      " 55  brunch                      12658 non-null  int32  \n",
      " 56  breakfast                   12658 non-null  int32  \n",
      " 57  open_days                   12658 non-null  int64  \n",
      " 58  open_hours                  12658 non-null  float64\n",
      "dtypes: float64(19), int32(21), int64(16), object(3)\n",
      "memory usage: 4.7+ MB\n"
     ]
    }
   ],
   "source": [
    "rests_final.info()"
   ]
  },
  {
   "cell_type": "code",
   "execution_count": 51,
   "metadata": {},
   "outputs": [],
   "source": [
    "# get_dummies for object columns\n",
    "obj_c = rests_final.select_dtypes(\"O\").columns\n",
    "rests_final = pd.get_dummies(rests_final,columns=obj_c)"
   ]
  },
  {
   "cell_type": "code",
   "execution_count": 52,
   "metadata": {},
   "outputs": [
    {
     "data": {
      "text/plain": [
       "(12658, 73)"
      ]
     },
     "execution_count": 52,
     "metadata": {},
     "output_type": "execute_result"
    }
   ],
   "source": [
    "rests_final.shape"
   ]
  },
  {
   "cell_type": "markdown",
   "metadata": {},
   "source": [
    "## save to CSV file"
   ]
  },
  {
   "cell_type": "code",
   "execution_count": 54,
   "metadata": {},
   "outputs": [],
   "source": [
    "filename = \"./dataset/yelp_business_cleaned.csv\"\n",
    "rests_final.to_csv(filename,index=False)"
   ]
  },
  {
   "cell_type": "code",
   "execution_count": null,
   "metadata": {},
   "outputs": [],
   "source": []
  },
  {
   "cell_type": "code",
   "execution_count": null,
   "metadata": {},
   "outputs": [],
   "source": []
  }
 ],
 "metadata": {
  "colab": {
   "collapsed_sections": [],
   "name": "Yelp_Project.ipynb",
   "provenance": [
    {
     "file_id": "1PeMoOzZFleKdkj3J4xfUYggEdrgE4NfX",
     "timestamp": 1644902713510
    }
   ]
  },
  "kernelspec": {
   "display_name": "Python 3",
   "language": "python",
   "name": "python3"
  },
  "language_info": {
   "codemirror_mode": {
    "name": "ipython",
    "version": 3
   },
   "file_extension": ".py",
   "mimetype": "text/x-python",
   "name": "python",
   "nbconvert_exporter": "python",
   "pygments_lexer": "ipython3",
   "version": "3.8.8"
  },
  "toc": {
   "base_numbering": 1,
   "nav_menu": {},
   "number_sections": true,
   "sideBar": true,
   "skip_h1_title": false,
   "title_cell": "Table of Contents",
   "title_sidebar": "Contents",
   "toc_cell": false,
   "toc_position": {},
   "toc_section_display": true,
   "toc_window_display": false
  },
  "varInspector": {
   "cols": {
    "lenName": 16,
    "lenType": 16,
    "lenVar": 40
   },
   "kernels_config": {
    "python": {
     "delete_cmd_postfix": "",
     "delete_cmd_prefix": "del ",
     "library": "var_list.py",
     "varRefreshCmd": "print(var_dic_list())"
    },
    "r": {
     "delete_cmd_postfix": ") ",
     "delete_cmd_prefix": "rm(",
     "library": "var_list.r",
     "varRefreshCmd": "cat(var_dic_list()) "
    }
   },
   "types_to_exclude": [
    "module",
    "function",
    "builtin_function_or_method",
    "instance",
    "_Feature"
   ],
   "window_display": false
  }
 },
 "nbformat": 4,
 "nbformat_minor": 1
}
